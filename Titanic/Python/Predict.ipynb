{
 "cells": [
  {
   "cell_type": "code",
   "execution_count": 1,
   "metadata": {
    "collapsed": true
   },
   "outputs": [],
   "source": [
    "# Imports\n",
    "\n",
    "# pandas\n",
    "import pandas as pd\n",
    "from pandas import Series,DataFrame\n",
    "from pandas.tools.plotting import scatter_matrix\n",
    "\n",
    "# numpy, matplotlib, seaborn\n",
    "import numpy as np\n",
    "import matplotlib.pyplot as plt\n",
    "import seaborn as sns\n",
    "sns.set_style('whitegrid')\n",
    "%matplotlib inline\n",
    "\n",
    "# machine learning\n",
    "from sklearn.metrics import confusion_matrix\n",
    "from sklearn import cross_validation\n",
    "from sklearn.cross_validation import StratifiedKFold\n",
    "from sklearn.linear_model import LogisticRegression\n",
    "from sklearn.svm import SVC, LinearSVC\n",
    "from sklearn.ensemble import RandomForestClassifier\n",
    "from sklearn.neighbors import KNeighborsClassifier\n",
    "from sklearn.naive_bayes import GaussianNB"
   ]
  },
  {
   "cell_type": "code",
   "execution_count": 20,
   "metadata": {
    "collapsed": false
   },
   "outputs": [],
   "source": [
    "# get train & test csv files as a DataFrame\n",
    "titanic_df = pd.read_csv(\"../Data/train.csv\", dtype={\"Age\": np.float64}, )\n",
    "test_df    = pd.read_csv(\"../Data/test.csv\", dtype={\"Age\": np.float64}, )"
   ]
  },
  {
   "cell_type": "markdown",
   "metadata": {},
   "source": [
    "## Basic Cleaning ##\n",
    "\n",
    "Drop unnecessary columns or rows that won't be useful in analysis and prediction\n",
    "\n",
    "- Remove PassengerId from train as it is an index and has no value. \n",
    "- Cabin might be a potential for removing given there are so many missing values however we need to investigate it further.\n",
    "- Remove the 2 entries from the training set with missing Embarked values as the % of entries it impacts is so low."
   ]
  },
  {
   "cell_type": "code",
   "execution_count": 21,
   "metadata": {
    "collapsed": false
   },
   "outputs": [],
   "source": [
    "titanic_df = titanic_df.drop(['PassengerId'], axis=1)\n",
    "titanic_df = titanic_df.dropna(subset=['Embarked'])\n",
    "# titanic_df.info() # verify"
   ]
  },
  {
   "cell_type": "code",
   "execution_count": 22,
   "metadata": {
    "collapsed": false
   },
   "outputs": [
    {
     "name": "stdout",
     "output_type": "stream",
     "text": [
      "<class 'pandas.core.frame.DataFrame'>\n",
      "RangeIndex: 418 entries, 0 to 417\n",
      "Data columns (total 14 columns):\n",
      "PassengerId    418 non-null int64\n",
      "Pclass         418 non-null int64\n",
      "Name           418 non-null object\n",
      "Sex            418 non-null int32\n",
      "Age            418 non-null int32\n",
      "SibSp          418 non-null int64\n",
      "Parch          418 non-null int64\n",
      "Ticket         418 non-null object\n",
      "Fare           418 non-null float64\n",
      "Cabin          91 non-null object\n",
      "Embarked       418 non-null object\n",
      "Embarked_C     418 non-null float64\n",
      "Embarked_Q     418 non-null float64\n",
      "Embarked_S     418 non-null float64\n",
      "dtypes: float64(4), int32(2), int64(4), object(4)\n",
      "memory usage: 42.5+ KB\n"
     ]
    }
   ],
   "source": [
    "# Sex\n",
    "\n",
    "# Convert string values to numerical one \n",
    "titanic_df['Sex'] = titanic_df['Sex'].map({'male':1,'female':0}).astype(int)\n",
    "test_df['Sex'] = test_df['Sex'].map({'male':1,'female':0}).astype(int)\n",
    "\n",
    "# Age\n",
    "\n",
    "# Replace empty age values with the mean - should verify mean / median. Perhaps take by analysing\n",
    "# name to determin title e.g. Mrs. is probably older than Miss.\n",
    "titanic_df['Age'].fillna(titanic_df['Age'].median(), inplace=True)\n",
    "test_df['Age'].fillna(titanic_df['Age'].median(), inplace=True)\n",
    "\n",
    "# convert from float to int\n",
    "titanic_df['Age'] = titanic_df['Age'].astype(int)\n",
    "test_df['Age']    = test_df['Age'].astype(int)\n",
    "\n",
    "# TODO: Visualise and Analyse\n",
    "# Name\n",
    "# Age\n",
    "# SibSp\n",
    "# Parch\n",
    "# Ticket\n",
    "# Fare\n",
    "\n",
    "# replace missing fare value with the mean.\n",
    "titanic_df.Fare.fillna(titanic_df.Fare.mean(),inplace=True)\n",
    "test_df.Fare.fillna(test_df.Fare.mean(),inplace=True)\n",
    "    \n",
    "# Cabin\n",
    "# Embarked\n",
    "ports = pd.get_dummies(titanic_df['Embarked'], prefix='Embarked')\n",
    "titanic_df = pd.concat([titanic_df, ports], axis = 1)\n",
    "ports = pd.get_dummies(test_df['Embarked'], prefix='Embarked')\n",
    "test_df = pd.concat([test_df, ports], axis = 1)\n",
    "\n",
    "test_df.info()"
   ]
  },
  {
   "cell_type": "code",
   "execution_count": 23,
   "metadata": {
    "collapsed": false
   },
   "outputs": [
    {
     "name": "stdout",
     "output_type": "stream",
     "text": [
      "Survived: 340\n",
      "Died: 549\n",
      "Total: 889\n"
     ]
    }
   ],
   "source": [
    "# Verify totals\n",
    "print(\"Survived: \" + str(len(titanic_df[titanic_df['Survived'] == 1])))\n",
    "print(\"Died: \" + str(len(titanic_df[titanic_df['Survived'] == 0])))\n",
    "print(\"Total: \" + str(len(titanic_df)))\n"
   ]
  },
  {
   "cell_type": "markdown",
   "metadata": {},
   "source": [
    "## Create New Features ##"
   ]
  },
  {
   "cell_type": "code",
   "execution_count": 24,
   "metadata": {
    "collapsed": true
   },
   "outputs": [],
   "source": [
    "# TODO:"
   ]
  },
  {
   "cell_type": "markdown",
   "metadata": {},
   "source": [
    "## Final correction of data ##\n",
    "\n",
    "We need to remove some values such as string entries. Most of this code should be done smarter elsewhere!"
   ]
  },
  {
   "cell_type": "code",
   "execution_count": 25,
   "metadata": {
    "collapsed": false
   },
   "outputs": [],
   "source": [
    "# drop string values - these should be convirted\n",
    "titanic_df = titanic_df.drop([\"Name\", \"Ticket\", \"Cabin\", \"Embarked\"],axis=1)\n",
    "titanic_df = titanic_df.dropna()\n",
    "test_df = test_df.drop([\"Name\", \"Ticket\", \"Cabin\", \"Embarked\"],axis=1)\n",
    "test_df = test_df.dropna()"
   ]
  },
  {
   "cell_type": "code",
   "execution_count": 26,
   "metadata": {
    "collapsed": false
   },
   "outputs": [
    {
     "name": "stdout",
     "output_type": "stream",
     "text": [
      "<class 'pandas.core.frame.DataFrame'>\n",
      "Int64Index: 889 entries, 0 to 890\n",
      "Data columns (total 10 columns):\n",
      "Survived      889 non-null int64\n",
      "Pclass        889 non-null int64\n",
      "Sex           889 non-null int32\n",
      "Age           889 non-null int32\n",
      "SibSp         889 non-null int64\n",
      "Parch         889 non-null int64\n",
      "Fare          889 non-null float64\n",
      "Embarked_C    889 non-null float64\n",
      "Embarked_Q    889 non-null float64\n",
      "Embarked_S    889 non-null float64\n",
      "dtypes: float64(4), int32(2), int64(4)\n",
      "memory usage: 69.5 KB\n"
     ]
    }
   ],
   "source": [
    "titanic_df.info()"
   ]
  },
  {
   "cell_type": "markdown",
   "metadata": {},
   "source": [
    "## Create Final Train and Test Datasets ##"
   ]
  },
  {
   "cell_type": "code",
   "execution_count": 27,
   "metadata": {
    "collapsed": true
   },
   "outputs": [],
   "source": [
    "# define training and testing sets\n",
    "\n",
    "X_train = titanic_df.drop(\"Survived\",axis=1)\n",
    "Y_train = titanic_df[\"Survived\"]\n",
    "X_test  = test_df.drop(\"PassengerId\",axis=1).copy()"
   ]
  },
  {
   "cell_type": "markdown",
   "metadata": {},
   "source": [
    "## Build Models and Test ##\n",
    "First some helper methods"
   ]
  },
  {
   "cell_type": "code",
   "execution_count": 28,
   "metadata": {
    "collapsed": false,
    "scrolled": true
   },
   "outputs": [],
   "source": [
    "# Run and evaluate model\n",
    "def evaluate_model(model, X_train, Y_train, X_test):\n",
    "    # fit the model against the training data\n",
    "    model.fit(X_train, Y_train)\n",
    "\n",
    "    # get scores based upon 5 fold cross validation\n",
    "    scores = cross_validation.cross_val_score(model, X_train, Y_train, cv=5)\n",
    "    print(\"Fold Accuracies: \" + str(scores))\n",
    "    print(\"Accuracy: %0.2f (+/- %0.2f @2std)\" % (scores.mean(), scores.std() * 2))\n",
    "\n",
    "    # Compute confusion matrix\n",
    "    prediction = cross_validation.cross_val_predict(model, X_train, Y_train)\n",
    "    cm = confusion_matrix(Y_train, prediction)\n",
    "    print('Confusion matrix, without normalization')\n",
    "    print(cm)\n",
    "    plot_confusion_matrix(cm, np.array([\"Died\", \"Survived\"]))\n",
    "\n",
    "    # predics test classes\n",
    "    Y_pred = model.predict(X_test)\n",
    "    return Y_pred\n",
    "\n",
    "# Plot confusion matrix\n",
    "def plot_confusion_matrix(cm, tickLabels, title='Confusion matrix', cmap=plt.cm.Blues):\n",
    "    plt.imshow(cm, interpolation='nearest', cmap=cmap)\n",
    "    plt.title(title)\n",
    "    plt.colorbar()\n",
    "    tick_marks = np.arange(len(tickLabels))\n",
    "    plt.xticks(tick_marks, tickLabels, rotation=45)\n",
    "    plt.yticks(tick_marks, tickLabels)\n",
    "    plt.tight_layout()\n",
    "    plt.ylabel('True label')\n",
    "    plt.xlabel('Predicted label')"
   ]
  },
  {
   "cell_type": "markdown",
   "metadata": {},
   "source": [
    "## Baseline (ZeroR) classification ##\n",
    "\n",
    "At this stage out training set has **889** entries of which the most common output class is that they died with **549** entries.\n",
    "\n",
    "We could achieve an accuracy of **61.75%** by just predicting 'died' for all cases so this should be our absolute baseline! "
   ]
  },
  {
   "cell_type": "markdown",
   "metadata": {},
   "source": [
    "## Gender Based Model ##\n",
    "Given the percentage of woman who survided was a lot higher than men, what happens if we just predict that all women lived and all men died"
   ]
  },
  {
   "cell_type": "code",
   "execution_count": 29,
   "metadata": {
    "collapsed": false
   },
   "outputs": [
    {
     "name": "stdout",
     "output_type": "stream",
     "text": [
      "Number of females: 312\n",
      "Number of males: 577\n",
      "Proportion of women who survived is 0.740384615385\n",
      "Proportion of men who survived is 0.188908145581\n"
     ]
    }
   ],
   "source": [
    "women = titanic_df[titanic_df['Sex']==0]\n",
    "print('Number of females:', len(women))\n",
    "men = titanic_df[titanic_df['Sex']==1]\n",
    "print('Number of males:', len(men))\n",
    "\n",
    "proportion_women_survived = np.sum(women['Survived'].tolist()) / np.size(women['Survived'].tolist()) \n",
    "proportion_men_survived = np.sum(men['Survived'].tolist()) / np.size(men['Survived'].tolist()) \n",
    "\n",
    "print('Proportion of women who survived is %s' % proportion_women_survived)\n",
    "print('Proportion of men who survived is %s' % proportion_men_survived)\n",
    "\n",
    "def predict(row):\n",
    "    if row['Sex'] == 0:\n",
    "        return 1\n",
    "    else:\n",
    "        return 0\n",
    "\n",
    "gender_test_df = test_df\n",
    "gender_test_df['Survived'] = gender_test_df.apply(predict, axis=1)\n",
    "\n",
    "gender_submission = gender_test_df[['PassengerId', 'Survived']]\n",
    "gender_submission.to_csv('gender_predictions.csv', index=False)"
   ]
  },
  {
   "cell_type": "markdown",
   "metadata": {},
   "source": [
    "## Machine Learning Models ##"
   ]
  },
  {
   "cell_type": "code",
   "execution_count": 30,
   "metadata": {
    "collapsed": false
   },
   "outputs": [
    {
     "name": "stdout",
     "output_type": "stream",
     "text": [
      "Fold Accuracies: [ 0.78089888  0.80337079  0.78089888  0.76966292  0.82485876]\n",
      "Accuracy: 0.79 (+/- 0.04 @2std)\n",
      "Confusion matrix, without normalization\n",
      "[[474  75]\n",
      " [113 227]]\n"
     ]
    },
    {
     "data": {
      "text/html": [
       "<div>\n",
       "<table border=\"1\" class=\"dataframe\">\n",
       "  <thead>\n",
       "    <tr style=\"text-align: right;\">\n",
       "      <th></th>\n",
       "      <th>Features</th>\n",
       "      <th>Coefficient Estimate</th>\n",
       "    </tr>\n",
       "  </thead>\n",
       "  <tbody>\n",
       "    <tr>\n",
       "      <th>0</th>\n",
       "      <td>Pclass</td>\n",
       "      <td>-0.872758</td>\n",
       "    </tr>\n",
       "    <tr>\n",
       "      <th>1</th>\n",
       "      <td>Sex</td>\n",
       "      <td>-2.506771</td>\n",
       "    </tr>\n",
       "    <tr>\n",
       "      <th>2</th>\n",
       "      <td>Age</td>\n",
       "      <td>-0.030263</td>\n",
       "    </tr>\n",
       "    <tr>\n",
       "      <th>3</th>\n",
       "      <td>SibSp</td>\n",
       "      <td>-0.294106</td>\n",
       "    </tr>\n",
       "    <tr>\n",
       "      <th>4</th>\n",
       "      <td>Parch</td>\n",
       "      <td>-0.076919</td>\n",
       "    </tr>\n",
       "    <tr>\n",
       "      <th>5</th>\n",
       "      <td>Fare</td>\n",
       "      <td>0.003808</td>\n",
       "    </tr>\n",
       "    <tr>\n",
       "      <th>6</th>\n",
       "      <td>Embarked_C</td>\n",
       "      <td>1.195413</td>\n",
       "    </tr>\n",
       "    <tr>\n",
       "      <th>7</th>\n",
       "      <td>Embarked_Q</td>\n",
       "      <td>1.031368</td>\n",
       "    </tr>\n",
       "    <tr>\n",
       "      <th>8</th>\n",
       "      <td>Embarked_S</td>\n",
       "      <td>0.815128</td>\n",
       "    </tr>\n",
       "  </tbody>\n",
       "</table>\n",
       "</div>"
      ],
      "text/plain": [
       "     Features  Coefficient Estimate\n",
       "0      Pclass             -0.872758\n",
       "1         Sex             -2.506771\n",
       "2         Age             -0.030263\n",
       "3       SibSp             -0.294106\n",
       "4       Parch             -0.076919\n",
       "5        Fare              0.003808\n",
       "6  Embarked_C              1.195413\n",
       "7  Embarked_Q              1.031368\n",
       "8  Embarked_S              0.815128"
      ]
     },
     "execution_count": 30,
     "metadata": {},
     "output_type": "execute_result"
    },
    {
     "data": {
      "image/png": "[encoded data removed]",
      "text/plain": [
       "<matplotlib.figure.Figure at 0xb8fc7b8>"
      ]
     },
     "metadata": {},
     "output_type": "display_data"
    }
   ],
   "source": [
    "# Logistic Regression\n",
    "\n",
    "logreg = LogisticRegression()\n",
    "Y_predLogisticRegression = evaluate_model(logreg, X_train, Y_train, X_test)\n",
    "\n",
    "# get Correlation Coefficient for each feature using Logistic Regression\n",
    "coeff_df = DataFrame(titanic_df.columns.delete(0))\n",
    "coeff_df.columns = ['Features']\n",
    "coeff_df[\"Coefficient Estimate\"] = pd.Series(logreg.coef_[0])\n",
    "\n",
    "# preview\n",
    "coeff_df"
   ]
  },
  {
   "cell_type": "code",
   "execution_count": 31,
   "metadata": {
    "collapsed": false
   },
   "outputs": [
    {
     "name": "stdout",
     "output_type": "stream",
     "text": [
      "Fold Accuracies: [ 0.58426966  0.6741573   0.7247191   0.74719101  0.75141243]\n",
      "Accuracy: 0.70 (+/- 0.12 @2std)\n",
      "Confusion matrix, without normalization\n",
      "[[450  99]\n",
      " [181 159]]\n"
     ]
    },
    {
     "data": {
      "image/png": "[encoded data removed]",
      "text/plain": [
       "<matplotlib.figure.Figure at 0xb7cbd30>"
      ]
     },
     "metadata": {},
     "output_type": "display_data"
    }
   ],
   "source": [
    "# Support Vector Machines\n",
    "\n",
    "svc = SVC()\n",
    "Y_predSVC = evaluate_model(svc, X_train, Y_train, X_test)"
   ]
  },
  {
   "cell_type": "code",
   "execution_count": 32,
   "metadata": {
    "collapsed": false
   },
   "outputs": [
    {
     "name": "stdout",
     "output_type": "stream",
     "text": [
      "Fold Accuracies: [ 0.80898876  0.8258427   0.85955056  0.81460674  0.86440678]\n",
      "Accuracy: 0.83 (+/- 0.05 @2std)\n",
      "Confusion matrix, without normalization\n",
      "[[494  55]\n",
      " [100 240]]\n"
     ]
    },
    {
     "data": {
      "image/png": "[encoded data removed]",
      "text/plain": [
       "<matplotlib.figure.Figure at 0xad330b8>"
      ]
     },
     "metadata": {},
     "output_type": "display_data"
    }
   ],
   "source": [
    "# Random Forests\n",
    "\n",
    "#random_forest = RandomForestClassifier(n_estimators=100)\n",
    "random_forest = RandomForestClassifier(criterion='entropy', n_estimators=50, max_depth=8, min_samples_split=8, max_features=5)\n",
    "Y_predRandomForest = evaluate_model(random_forest, X_train, Y_train, X_test)\n",
    "\n",
    "#Best: 0.814398 using {'bootstrap': True, 'max_depth': 10, 'min_samples_split': 4, 'criterion': 'gini', 'n_estimators': 50, 'max_features': 2}\n",
    "#Best: 0.843645 using {'criterion': 'entropy', 'n_estimators': 50, 'max_depth': 8, 'min_samples_split': 8, 'max_features': 5}\n"
   ]
  },
  {
   "cell_type": "code",
   "execution_count": 33,
   "metadata": {
    "collapsed": false
   },
   "outputs": [
    {
     "name": "stdout",
     "output_type": "stream",
     "text": [
      "Fold Accuracies: [ 0.65168539  0.70224719  0.71910112  0.74719101  0.71186441]\n",
      "Accuracy: 0.71 (+/- 0.06 @2std)\n",
      "Confusion matrix, without normalization\n",
      "[[433 116]\n",
      " [162 178]]\n"
     ]
    },
    {
     "data": {
      "image/png": "[encoded data removed]",
      "text/plain": [
       "<matplotlib.figure.Figure at 0xaf0d048>"
      ]
     },
     "metadata": {},
     "output_type": "display_data"
    }
   ],
   "source": [
    "# K Nearest Neighbors\n",
    "\n",
    "knn = KNeighborsClassifier(n_neighbors = 3)\n",
    "Y_predKNeighbors = evaluate_model(knn, X_train, Y_train, X_test)"
   ]
  },
  {
   "cell_type": "code",
   "execution_count": 34,
   "metadata": {
    "collapsed": false
   },
   "outputs": [
    {
     "name": "stdout",
     "output_type": "stream",
     "text": [
      "Fold Accuracies: [ 0.68539326  0.7752809   0.79775281  0.78651685  0.81355932]\n",
      "Accuracy: 0.77 (+/- 0.09 @2std)\n",
      "Confusion matrix, without normalization\n",
      "[[463  86]\n",
      " [120 220]]\n"
     ]
    },
    {
     "data": {
      "image/png": "[encoded data removed]",
      "text/plain": [
       "<matplotlib.figure.Figure at 0xad956d8>"
      ]
     },
     "metadata": {},
     "output_type": "display_data"
    }
   ],
   "source": [
    "# Gaussian Naive Bayes\n",
    "\n",
    "gaussian = GaussianNB()\n",
    "Y_predGaussian = evaluate_model(gaussian, X_train, Y_train, X_test)"
   ]
  },
  {
   "cell_type": "markdown",
   "metadata": {},
   "source": [
    "## Hyper Parameter Tuning ##\n",
    "Tuning of Random Forest model."
   ]
  },
  {
   "cell_type": "code",
   "execution_count": 35,
   "metadata": {
    "collapsed": false
   },
   "outputs": [
    {
     "ename": "AttributeError",
     "evalue": "'GridSearchCV' object has no attribute 'best_score_'",
     "output_type": "error",
     "traceback": [
      "\u001b[0;31m---------------------------------------------------------------------------\u001b[0m",
      "\u001b[0;31mAttributeError\u001b[0m                            Traceback (most recent call last)",
      "\u001b[0;32m<ipython-input-35-67c6da876add>\u001b[0m in \u001b[0;36m<module>\u001b[0;34m()\u001b[0m\n\u001b[1;32m     10\u001b[0m \u001b[0;34m\u001b[0m\u001b[0m\n\u001b[1;32m     11\u001b[0m \u001b[0;31m# summarise results\u001b[0m\u001b[0;34m\u001b[0m\u001b[0;34m\u001b[0m\u001b[0m\n\u001b[0;32m---> 12\u001b[0;31m \u001b[0mprint\u001b[0m\u001b[0;34m(\u001b[0m\u001b[0;34m\"Best: %f using %s\"\u001b[0m \u001b[0;34m%\u001b[0m \u001b[0;34m(\u001b[0m\u001b[0mgrid_search\u001b[0m\u001b[0;34m.\u001b[0m\u001b[0mbest_score_\u001b[0m\u001b[0;34m,\u001b[0m \u001b[0mgrid_search\u001b[0m\u001b[0;34m.\u001b[0m\u001b[0mbest_params_\u001b[0m\u001b[0;34m)\u001b[0m\u001b[0;34m)\u001b[0m\u001b[0;34m\u001b[0m\u001b[0m\n\u001b[0m\u001b[1;32m     13\u001b[0m \u001b[0;32mfor\u001b[0m \u001b[0mparams\u001b[0m\u001b[0;34m,\u001b[0m \u001b[0mmean_score\u001b[0m\u001b[0;34m,\u001b[0m \u001b[0mscores\u001b[0m \u001b[0;32min\u001b[0m \u001b[0mgrid_search\u001b[0m\u001b[0;34m.\u001b[0m\u001b[0mgrid_scores_\u001b[0m\u001b[0;34m:\u001b[0m\u001b[0;34m\u001b[0m\u001b[0m\n\u001b[1;32m     14\u001b[0m     \u001b[0mprint\u001b[0m\u001b[0;34m(\u001b[0m\u001b[0;34m\"%f (%f) with: %r\"\u001b[0m \u001b[0;34m%\u001b[0m \u001b[0;34m(\u001b[0m\u001b[0mscores\u001b[0m\u001b[0;34m.\u001b[0m\u001b[0mmean\u001b[0m\u001b[0;34m(\u001b[0m\u001b[0;34m)\u001b[0m\u001b[0;34m,\u001b[0m \u001b[0mscores\u001b[0m\u001b[0;34m.\u001b[0m\u001b[0mstd\u001b[0m\u001b[0;34m(\u001b[0m\u001b[0;34m)\u001b[0m\u001b[0;34m,\u001b[0m \u001b[0mparams\u001b[0m\u001b[0;34m)\u001b[0m\u001b[0;34m)\u001b[0m\u001b[0;34m\u001b[0m\u001b[0m\n",
      "\u001b[0;31mAttributeError\u001b[0m: 'GridSearchCV' object has no attribute 'best_score_'"
     ]
    }
   ],
   "source": [
    "from sklearn.grid_search import GridSearchCV\n",
    "param_grid = { \"n_estimators\"      : [50, 100, 150, 200, 250],\n",
    "           \"criterion\"         : [\"gini\", \"entropy\"],\n",
    "           \"max_features\"      : [2, 3, 5],\n",
    "           \"max_depth\"         : [4, 5, 8, 10, 20],\n",
    "           \"min_samples_split\" : [2, 4, 8]}\n",
    "\n",
    "grid_search = GridSearchCV(random_forest, param_grid, n_jobs=1, cv=StratifiedKFold(Y_train, n_folds=5))\n",
    "# grid_search.fit(X_train, Y_train)\n",
    "\n",
    "# summarise results\n",
    "#print(\"Best: %f using %s\" % (grid_search.best_score_, grid_search.best_params_))\n",
    "#for params, mean_score, scores in grid_search.grid_scores_:\n",
    "#    print(\"%f (%f) with: %r\" % (scores.mean(), scores.std(), params))\n",
    "    \n",
    "#Best: 0.843645 using {'criterion': 'entropy', 'n_estimators': 50, 'max_depth': 8, 'min_samples_split': 8, 'max_features': 5}\n"
   ]
  },
  {
   "cell_type": "markdown",
   "metadata": {},
   "source": [
    "## Create Submission File ##"
   ]
  },
  {
   "cell_type": "code",
   "execution_count": 36,
   "metadata": {
    "collapsed": true
   },
   "outputs": [],
   "source": [
    "submission = pd.DataFrame({\n",
    "        \"PassengerId\": test_df[\"PassengerId\"],\n",
    "        \"Survived\": Y_predRandomForest\n",
    "    })\n",
    "submission.to_csv('predictions.csv', index=False)"
   ]
  },
  {
   "cell_type": "code",
   "execution_count": null,
   "metadata": {
    "collapsed": true
   },
   "outputs": [],
   "source": []
  }
 ],
 "metadata": {
  "kernelspec": {
   "display_name": "Python 3",
   "language": "python",
   "name": "python3"
  },
  "language_info": {
   "codemirror_mode": {
    "name": "ipython",
    "version": 3
   },
   "file_extension": ".py",
   "mimetype": "text/x-python",
   "name": "python",
   "nbconvert_exporter": "python",
   "pygments_lexer": "ipython3",
   "version": "3.4.5"
  }
 },
 "nbformat": 4,
 "nbformat_minor": 0
}
