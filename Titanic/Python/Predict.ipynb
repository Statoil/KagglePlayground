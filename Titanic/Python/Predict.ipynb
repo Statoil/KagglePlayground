{
 "cells": [
  {
   "cell_type": "code",
   "execution_count": 1,
   "metadata": {
    "collapsed": true
   },
   "outputs": [],
   "source": [
    "# Imports\n",
    "\n",
    "# pandas\n",
    "import pandas as pd\n",
    "from pandas import Series,DataFrame\n",
    "from pandas.tools.plotting import scatter_matrix\n",
    "\n",
    "# numpy, matplotlib, seaborn\n",
    "import numpy as np\n",
    "import matplotlib.pyplot as plt\n",
    "import seaborn as sns\n",
    "sns.set_style('whitegrid')\n",
    "%matplotlib inline\n",
    "\n",
    "# machine learning\n",
    "from sklearn.metrics import confusion_matrix\n",
    "from sklearn import cross_validation\n",
    "from sklearn.linear_model import LogisticRegression\n",
    "from sklearn.svm import SVC, LinearSVC\n",
    "from sklearn.ensemble import RandomForestClassifier\n",
    "from sklearn.neighbors import KNeighborsClassifier\n",
    "from sklearn.naive_bayes import GaussianNB"
   ]
  },
  {
   "cell_type": "code",
   "execution_count": 2,
   "metadata": {
    "collapsed": false
   },
   "outputs": [],
   "source": [
    "# get train & test csv files as a DataFrame\n",
    "titanic_df = pd.read_csv(\"../Data/train.csv\", dtype={\"Age\": np.float64}, )\n",
    "test_df    = pd.read_csv(\"../Data/test.csv\", dtype={\"Age\": np.float64}, )"
   ]
  },
  {
   "cell_type": "markdown",
   "metadata": {},
   "source": [
    "## Basic Cleaning ##\n",
    "\n",
    "Drop unnecessary columns or rows that won't be useful in analysis and prediction\n",
    "\n",
    "- Remove PassengerId from train as it is an index and has no value. \n",
    "- Cabin might be a potential for removing given there are so many missing values however we need to investigate it further.\n",
    "- Remove the 2 entries from the training set with missing Embarked values as the % of entries it impacts is so low."
   ]
  },
  {
   "cell_type": "code",
   "execution_count": 3,
   "metadata": {
    "collapsed": false
   },
   "outputs": [],
   "source": [
    "titanic_df = titanic_df.drop(['PassengerId'], axis=1)\n",
    "titanic_df = titanic_df.dropna(subset=['Embarked'])\n",
    "# titanic_df.info() # verify"
   ]
  },
  {
   "cell_type": "code",
   "execution_count": 4,
   "metadata": {
    "collapsed": false
   },
   "outputs": [],
   "source": [
    "# Sex\n",
    "\n",
    "# Convert string values to numerical one \n",
    "titanic_df['Sex'] = titanic_df['Sex'].map({'male':1,'female':0}).astype(int)\n",
    "test_df['Sex'] = test_df['Sex'].map({'male':1,'female':0}).astype(int)\n",
    "\n",
    "# Age\n",
    "\n",
    "# Replace empty age values with the mean - should verify mean / median. Perhaps take by analysing\n",
    "# name to determin title e.g. Mrs. is probably older than Miss.\n",
    "titanic_df['Age'].fillna(titanic_df['Age'].median(), inplace=True)\n",
    "test_df['Age'].fillna(titanic_df['Age'].median(), inplace=True)\n",
    "\n",
    "# convert from float to int\n",
    "titanic_df['Age'] = titanic_df['Age'].astype(int)\n",
    "test_df['Age']    = test_df['Age'].astype(int)\n",
    "\n",
    "# TODO: Visualise and Analyse\n",
    "# Name\n",
    "# Age\n",
    "# SibSp\n",
    "# Parch\n",
    "# Ticket\n",
    "# Fare\n",
    "\n",
    "# replace missing fare value with the mean.\n",
    "titanic_df.Fare.fillna(titanic_df.Fare.mean(),inplace=True)\n",
    "test_df.Fare.fillna(test_df.Fare.mean(),inplace=True)\n",
    "    \n",
    "# Cabin\n",
    "# Embarked"
   ]
  },
  {
   "cell_type": "code",
   "execution_count": 5,
   "metadata": {
    "collapsed": false
   },
   "outputs": [
    {
     "name": "stdout",
     "output_type": "stream",
     "text": [
      "Survived: 340\n",
      "Died: 549\n",
      "Total: 889\n"
     ]
    }
   ],
   "source": [
    "# Verify totals\n",
    "print(\"Survived: \" + str(len(titanic_df[titanic_df['Survived'] == 1])))\n",
    "print(\"Died: \" + str(len(titanic_df[titanic_df['Survived'] == 0])))\n",
    "print(\"Total: \" + str(len(titanic_df)))\n"
   ]
  },
  {
   "cell_type": "code",
   "execution_count": null,
   "metadata": {
    "collapsed": true
   },
   "outputs": [],
   "source": []
  },
  {
   "cell_type": "markdown",
   "metadata": {},
   "source": [
    "## Create New Features ##"
   ]
  },
  {
   "cell_type": "code",
   "execution_count": 6,
   "metadata": {
    "collapsed": true
   },
   "outputs": [],
   "source": [
    "# TODO:"
   ]
  },
  {
   "cell_type": "markdown",
   "metadata": {},
   "source": [
    "## Final correction of data ##\n",
    "\n",
    "We need to remove some values such as string entries. Most of this code should be done smarter elsewhere!"
   ]
  },
  {
   "cell_type": "code",
   "execution_count": 7,
   "metadata": {
    "collapsed": true
   },
   "outputs": [],
   "source": [
    "# drop string values - these should be convirted\n",
    "titanic_df = titanic_df.drop([\"Name\", \"Ticket\", \"Cabin\", \"Embarked\"],axis=1)\n",
    "titanic_df = titanic_df.dropna()\n",
    "test_df = test_df.drop([\"Name\", \"Ticket\", \"Cabin\", \"Embarked\"],axis=1)\n",
    "test_df = test_df.dropna()\n"
   ]
  },
  {
   "cell_type": "markdown",
   "metadata": {},
   "source": [
    "## Create Final Train and Test Datasets ##"
   ]
  },
  {
   "cell_type": "code",
   "execution_count": 8,
   "metadata": {
    "collapsed": true
   },
   "outputs": [],
   "source": [
    "# define training and testing sets\n",
    "\n",
    "X_train = titanic_df.drop(\"Survived\",axis=1)\n",
    "Y_train = titanic_df[\"Survived\"]\n",
    "X_test  = test_df.drop(\"PassengerId\",axis=1).copy()"
   ]
  },
  {
   "cell_type": "markdown",
   "metadata": {},
   "source": [
    "## Build Models and Test ##\n",
    "First some helper methods"
   ]
  },
  {
   "cell_type": "code",
   "execution_count": 9,
   "metadata": {
    "collapsed": false,
    "scrolled": true
   },
   "outputs": [],
   "source": [
    "# Run and evaluate model\n",
    "def evaluate_model(model, X_train, Y_train, X_test):\n",
    "    # fit the model against the training data\n",
    "    model.fit(X_train, Y_train)\n",
    "\n",
    "    # get scores based upon 5 fold cross validation\n",
    "    scores = cross_validation.cross_val_score(model, X_train, Y_train, cv=5)\n",
    "    print(\"Fold Accuracies: \" + str(scores))\n",
    "    print(\"Accuracy: %0.2f (+/- %0.2f @2std)\" % (scores.mean(), scores.std() * 2))\n",
    "\n",
    "    # Compute confusion matrix\n",
    "    prediction = cross_validation.cross_val_predict(model, X_train, Y_train)\n",
    "    cm = confusion_matrix(Y_train, prediction)\n",
    "    print('Confusion matrix, without normalization')\n",
    "    print(cm)\n",
    "    plot_confusion_matrix(cm, np.array([\"Died\", \"Survived\"]))\n",
    "\n",
    "    # predics test classes\n",
    "    Y_pred = model.predict(X_test)\n",
    "    return Y_pred\n",
    "\n",
    "# Plot confusion matrix\n",
    "def plot_confusion_matrix(cm, tickLabels, title='Confusion matrix', cmap=plt.cm.Blues):\n",
    "    plt.imshow(cm, interpolation='nearest', cmap=cmap)\n",
    "    plt.title(title)\n",
    "    plt.colorbar()\n",
    "    tick_marks = np.arange(len(tickLabels))\n",
    "    plt.xticks(tick_marks, tickLabels, rotation=45)\n",
    "    plt.yticks(tick_marks, tickLabels)\n",
    "    plt.tight_layout()\n",
    "    plt.ylabel('True label')\n",
    "    plt.xlabel('Predicted label')"
   ]
  },
  {
   "cell_type": "markdown",
   "metadata": {},
   "source": [
    "## Baseline (ZeroR) classification ##\n",
    "\n",
    "At this stage out training set has **889** entries of which the most common output class is that they died with **549** entries.\n",
    "\n",
    "We could achieve an accuracy of **61.75%** by just predicting 'died' for all cases so this should be our absolute baseline! "
   ]
  },
  {
   "cell_type": "code",
   "execution_count": 10,
   "metadata": {
    "collapsed": false
   },
   "outputs": [
    {
     "name": "stdout",
     "output_type": "stream",
     "text": [
      "Fold Accuracies: [ 0.79213483  0.79213483  0.78089888  0.76404494  0.81920904]\n",
      "Accuracy: 0.79 (+/- 0.04 @2std)\n",
      "Confusion matrix, without normalization\n",
      "[[475  74]\n",
      " [110 230]]\n"
     ]
    },
    {
     "data": {
      "text/html": [
       "<div>\n",
       "<table border=\"1\" class=\"dataframe\">\n",
       "  <thead>\n",
       "    <tr style=\"text-align: right;\">\n",
       "      <th></th>\n",
       "      <th>Features</th>\n",
       "      <th>Coefficient Estimate</th>\n",
       "    </tr>\n",
       "  </thead>\n",
       "  <tbody>\n",
       "    <tr>\n",
       "      <th>0</th>\n",
       "      <td>Pclass</td>\n",
       "      <td>-0.829507</td>\n",
       "    </tr>\n",
       "    <tr>\n",
       "      <th>1</th>\n",
       "      <td>Sex</td>\n",
       "      <td>-2.503096</td>\n",
       "    </tr>\n",
       "    <tr>\n",
       "      <th>2</th>\n",
       "      <td>Age</td>\n",
       "      <td>-0.028848</td>\n",
       "    </tr>\n",
       "    <tr>\n",
       "      <th>3</th>\n",
       "      <td>SibSp</td>\n",
       "      <td>-0.308117</td>\n",
       "    </tr>\n",
       "    <tr>\n",
       "      <th>4</th>\n",
       "      <td>Parch</td>\n",
       "      <td>-0.087863</td>\n",
       "    </tr>\n",
       "    <tr>\n",
       "      <th>5</th>\n",
       "      <td>Fare</td>\n",
       "      <td>0.005017</td>\n",
       "    </tr>\n",
       "  </tbody>\n",
       "</table>\n",
       "</div>"
      ],
      "text/plain": [
       "  Features  Coefficient Estimate\n",
       "0   Pclass             -0.829507\n",
       "1      Sex             -2.503096\n",
       "2      Age             -0.028848\n",
       "3    SibSp             -0.308117\n",
       "4    Parch             -0.087863\n",
       "5     Fare              0.005017"
      ]
     },
     "execution_count": 10,
     "metadata": {},
     "output_type": "execute_result"
    },
    {
     "data": {
      "image/png": "[encoded data removed]",
      "text/plain": [
       "<matplotlib.figure.Figure at 0x3457dd8>"
      ]
     },
     "metadata": {},
     "output_type": "display_data"
    }
   ],
   "source": [
    "# Logistic Regression\n",
    "\n",
    "logreg = LogisticRegression()\n",
    "Y_predLogisticRegression = evaluate_model(logreg, X_train, Y_train, X_test)\n",
    "\n",
    "# get Correlation Coefficient for each feature using Logistic Regression\n",
    "coeff_df = DataFrame(titanic_df.columns.delete(0))\n",
    "coeff_df.columns = ['Features']\n",
    "coeff_df[\"Coefficient Estimate\"] = pd.Series(logreg.coef_[0])\n",
    "\n",
    "# preview\n",
    "coeff_df"
   ]
  },
  {
   "cell_type": "code",
   "execution_count": 11,
   "metadata": {
    "collapsed": false
   },
   "outputs": [
    {
     "name": "stdout",
     "output_type": "stream",
     "text": [
      "Fold Accuracies: [ 0.61235955  0.65168539  0.73595506  0.74719101  0.72881356]\n",
      "Accuracy: 0.70 (+/- 0.11 @2std)\n",
      "Confusion matrix, without normalization\n",
      "[[457  92]\n",
      " [183 157]]\n"
     ]
    },
    {
     "data": {
      "image/png": "[encoded data removed]",
      "text/plain": [
       "<matplotlib.figure.Figure at 0x773d780>"
      ]
     },
     "metadata": {},
     "output_type": "display_data"
    }
   ],
   "source": [
    "# Support Vector Machines\n",
    "\n",
    "svc = SVC()\n",
    "Y_predSVC = evaluate_model(svc, X_train, Y_train, X_test)"
   ]
  },
  {
   "cell_type": "code",
   "execution_count": 12,
   "metadata": {
    "collapsed": false
   },
   "outputs": [
    {
     "name": "stdout",
     "output_type": "stream",
     "text": [
      "Fold Accuracies: [ 0.76404494  0.81460674  0.85955056  0.7752809   0.84180791]\n",
      "Accuracy: 0.81 (+/- 0.07 @2std)\n",
      "Confusion matrix, without normalization\n",
      "[[474  75]\n",
      " [ 89 251]]\n"
     ]
    },
    {
     "data": {
      "image/png": "[encoded data removed]",
      "text/plain": [
       "<matplotlib.figure.Figure at 0xb735860>"
      ]
     },
     "metadata": {},
     "output_type": "display_data"
    }
   ],
   "source": [
    "# Random Forests\n",
    "\n",
    "random_forest = RandomForestClassifier(n_estimators=100)\n",
    "Y_predRandomForest = evaluate_model(random_forest, X_train, Y_train, X_test)"
   ]
  },
  {
   "cell_type": "code",
   "execution_count": 13,
   "metadata": {
    "collapsed": false
   },
   "outputs": [
    {
     "name": "stdout",
     "output_type": "stream",
     "text": [
      "Fold Accuracies: [ 0.65168539  0.67977528  0.73033708  0.76404494  0.70621469]\n",
      "Accuracy: 0.71 (+/- 0.08 @2std)\n",
      "Confusion matrix, without normalization\n",
      "[[426 123]\n",
      " [152 188]]\n"
     ]
    },
    {
     "data": {
      "image/png": "[encoded data removed]",
      "text/plain": [
       "<matplotlib.figure.Figure at 0xb735d68>"
      ]
     },
     "metadata": {},
     "output_type": "display_data"
    }
   ],
   "source": [
    "# K Nearest Neighbors\n",
    "\n",
    "knn = KNeighborsClassifier(n_neighbors = 3)\n",
    "Y_predKNeighbors = evaluate_model(knn, X_train, Y_train, X_test)"
   ]
  },
  {
   "cell_type": "code",
   "execution_count": 14,
   "metadata": {
    "collapsed": false
   },
   "outputs": [
    {
     "name": "stdout",
     "output_type": "stream",
     "text": [
      "Fold Accuracies: [ 0.75842697  0.80337079  0.79213483  0.78651685  0.79661017]\n",
      "Accuracy: 0.79 (+/- 0.03 @2std)\n",
      "Confusion matrix, without normalization\n",
      "[[459  90]\n",
      " [102 238]]\n"
     ]
    },
    {
     "data": {
      "image/png": "[encoded data removed]",
      "text/plain": [
       "<matplotlib.figure.Figure at 0xb85a240>"
      ]
     },
     "metadata": {},
     "output_type": "display_data"
    }
   ],
   "source": [
    "# Gaussian Naive Bayes\n",
    "\n",
    "gaussian = GaussianNB()\n",
    "Y_predGaussian = evaluate_model(gaussian, X_train, Y_train, X_test)"
   ]
  },
  {
   "cell_type": "markdown",
   "metadata": {},
   "source": [
    "## Create Submission File ##"
   ]
  },
  {
   "cell_type": "code",
   "execution_count": 15,
   "metadata": {
    "collapsed": true
   },
   "outputs": [],
   "source": [
    "submission = pd.DataFrame({\n",
    "        \"PassengerId\": test_df[\"PassengerId\"],\n",
    "        \"Survived\": Y_predRandomForest\n",
    "    })\n",
    "submission.to_csv('predictions.csv', index=False)"
   ]
  },
  {
   "cell_type": "code",
   "execution_count": null,
   "metadata": {
    "collapsed": true
   },
   "outputs": [],
   "source": []
  }
 ],
 "metadata": {
  "kernelspec": {
   "display_name": "Python 3",
   "language": "python",
   "name": "python3"
  },
  "language_info": {
   "codemirror_mode": {
    "name": "ipython",
    "version": 3
   },
   "file_extension": ".py",
   "mimetype": "text/x-python",
   "name": "python",
   "nbconvert_exporter": "python",
   "pygments_lexer": "ipython3",
   "version": "3.4.5"
  }
 },
 "nbformat": 4,
 "nbformat_minor": 0
}
