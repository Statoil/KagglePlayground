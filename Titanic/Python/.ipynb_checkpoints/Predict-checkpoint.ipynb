{
 "cells": [
  {
   "cell_type": "code",
   "execution_count": 43,
   "metadata": {
    "collapsed": false
   },
   "outputs": [],
   "source": [
    "# Imports\n",
    "\n",
    "# pandas\n",
    "import pandas as pd\n",
    "from pandas import Series,DataFrame\n",
    "from pandas.tools.plotting import scatter_matrix\n",
    "\n",
    "# numpy, matplotlib, seaborn\n",
    "import numpy as np\n",
    "import matplotlib.pyplot as plt\n",
    "import seaborn as sns\n",
    "sns.set_style('whitegrid')\n",
    "%matplotlib inline\n",
    "plt.style.use('ggplot')\n",
    "\n",
    "# machine learning\n",
    "from sklearn.cross_validation import cross_val_score, cross_val_predict, StratifiedKFold\n",
    "from sklearn.grid_search import GridSearchCV\n",
    "from sklearn.linear_model import LogisticRegression\n",
    "from sklearn.metrics import confusion_matrix, accuracy_score, precision_score, recall_score, roc_curve, auc\n",
    "from sklearn.pipeline import Pipeline\n",
    "from sklearn.preprocessing import LabelEncoder\n",
    "from sklearn.preprocessing import StandardScaler\n",
    "\n",
    "from sklearn.ensemble import RandomForestClassifier, AdaBoostClassifier\n",
    "from sklearn.neighbors import KNeighborsClassifier\n",
    "from sklearn.naive_bayes import GaussianNB\n",
    "from sklearn.svm import SVC, LinearSVC\n",
    "from sklearn.tree import DecisionTreeRegressor\n",
    "\n",
    "#Keras\n",
    "from keras.models import Sequential\n",
    "from keras.layers import Dense\n",
    "from keras.wrappers.scikit_learn import KerasClassifier\n"
   ]
  },
  {
   "cell_type": "code",
   "execution_count": 2,
   "metadata": {
    "collapsed": false
   },
   "outputs": [],
   "source": [
    "# get train & test csv files as a DataFrame and then for simplicity of creating features put into a combined\n",
    "# dataframe with an IsTrainData field indicating which is train / test data\n",
    "titanic_df = pd.read_csv(\"../Data/train.csv\", dtype={\"Age\": np.float64}, ).assign(IsTrainData = 1)\n",
    "test_df    = pd.read_csv(\"../Data/test.csv\", dtype={\"Age\": np.float64}, ).assign(IsTrainData = 0).assign(Survived = -999)\n",
    "combined_df=pd.concat([titanic_df, test_df], ignore_index=True)"
   ]
  },
  {
   "cell_type": "markdown",
   "metadata": {},
   "source": [
    "## Data Preperation ##"
   ]
  },
  {
   "cell_type": "markdown",
   "metadata": {},
   "source": [
    "### Fares ###\n",
    "Replace the one missing entry which we know was in the test set. We could just base this on the mean value of those travelling in the same class (3) which would give a value of 13.3. For demo purposes however we take a smarter approach and use a decision tree to calculate the value. This returns 9 which is a similar order of magnitude showing this approach is probalby a good one."
   ]
  },
  {
   "cell_type": "code",
   "execution_count": 3,
   "metadata": {
    "collapsed": false
   },
   "outputs": [],
   "source": [
    "# replace missing fare value with the mean. We do a quick check to get the Pclass and base the mean on that.\n",
    "# print(combined_df[pd.isnull(combined_df.Fare)])\n",
    "#combined_df.loc[pd.isnull(combined_df.Fare), 'Fare'] = combined_df[combined_df.Pclass==3].Fare.mean()\n",
    "#print(combined_df[combined_df.Pclass==3].Fare.mean())\n",
    "\n",
    "# use a decision tree to predict the one missing fare observation, using other features as predictors.\n",
    "features = ['Pclass', 'SibSp', 'Parch']\n",
    "all_fares = combined_df.loc[pd.notnull(combined_df['Fare'])]\n",
    "missing_fare = combined_df.loc[pd.isnull(combined_df['Fare'])]\n",
    "#print(combined_df.iloc[missing_fare.index.values]) # print before values\n",
    "\n",
    "#Create and fit a decision tree Regressor\n",
    "clf = DecisionTreeRegressor(random_state=0)\n",
    "X = all_fares[features]\n",
    "y = all_fares['Fare']\n",
    "clf.fit(X, y)\n",
    "\n",
    "# Predict fare \n",
    "combined_df.loc[pd.isnull(combined_df['Fare']), 'Fare'] = clf.predict(missing_fare[features])\n",
    "#print(combined_df.iloc[missing_fare.index.values]) # print after values\n"
   ]
  },
  {
   "cell_type": "markdown",
   "metadata": {},
   "source": [
    "### Embarked ###\n",
    "One hot encode values"
   ]
  },
  {
   "cell_type": "code",
   "execution_count": 4,
   "metadata": {
    "collapsed": false
   },
   "outputs": [],
   "source": [
    "# Remove the 2 rows from the training set given these represent such a small % of the total data\n",
    "combined_df = combined_df.dropna(subset=['Embarked'])\n",
    "\n",
    "# one hot encode\n",
    "ports = pd.get_dummies(combined_df['Embarked'], prefix='Embarked')\n",
    "combined_df = pd.concat([combined_df, ports], axis = 1)\n",
    "combined_df = combined_df.drop([\"Embarked\"],axis=1)"
   ]
  },
  {
   "cell_type": "markdown",
   "metadata": {},
   "source": [
    "### Create Title Feature ###"
   ]
  },
  {
   "cell_type": "code",
   "execution_count": 5,
   "metadata": {
    "collapsed": false
   },
   "outputs": [],
   "source": [
    "def extract_title(x):\n",
    "    # Get the person's title from their name combining less common or similar ones\n",
    "    title = x.split(',')[1].split('.')[0][1:]\n",
    "    if title in ['Mlle', 'Ms']:\n",
    "        title = 'Miss'\n",
    "    elif title == 'Mme':\n",
    "        title = 'Mrs'\n",
    "    elif title in ['Rev', 'Dr', 'Major', 'Col', 'Capt', 'Jonkheer', 'Dona']:\n",
    "        title = 'Esteemed'\n",
    "    elif title in ['Don', 'Lady', 'Sir', 'the Countess']:\n",
    "        title = 'Royalty'\n",
    "    return title\n",
    "\n",
    "# Get the title, one hot encode and then remove both name and title.\n",
    "combined_df = combined_df.assign(Title = lambda x: x.Name.map(extract_title))\n",
    "titles = pd.get_dummies(combined_df['Title'], prefix='Title')\n",
    "combined_df = pd.concat([combined_df, titles], axis = 1)"
   ]
  },
  {
   "cell_type": "markdown",
   "metadata": {},
   "source": [
    "### Age ###\n",
    "There are many age values missing (see visualise notebook). There are several ways we can fill these. \n",
    "\n",
    "- The first option below manually fills the values based upon the mean for the same Sex, Pclass and Title.\n",
    "- The second used fancyimpute with the MICE algorithm.\n",
    "- The third option uses a decision tree to determine the value. \n",
    "\n",
    "We plot show some statistics to ensure the distribution of filled values meets our assumptions."
   ]
  },
  {
   "cell_type": "code",
   "execution_count": 6,
   "metadata": {
    "collapsed": false
   },
   "outputs": [
    {
     "name": "stdout",
     "output_type": "stream",
     "text": [
      "Sex     Pclass  Title   \n",
      "female  1       Esteemed    44.0\n",
      "                Miss        30.0\n",
      "                Mrs         45.0\n",
      "                Royalty     40.5\n",
      "        2       Miss        20.0\n",
      "                Mrs         30.5\n",
      "        3       Miss        18.0\n",
      "                Mrs         31.0\n",
      "male    1       Esteemed    51.0\n",
      "                Master       6.0\n",
      "                Mr          41.5\n",
      "                Royalty     44.5\n",
      "        2       Esteemed    41.5\n",
      "                Master       2.0\n",
      "                Mr          30.0\n",
      "        3       Master       6.0\n",
      "                Mr          26.0\n",
      "Name: Age, dtype: float64\n"
     ]
    }
   ],
   "source": [
    "\n",
    "# Check the average - this first method does so by manually finding suitable values based on the \n",
    "# mean of a similar sex, Pclass and Title. A second method below uses the fancyimpute package.\n",
    "\n",
    "grouped = combined_df.groupby(['Sex','Pclass','Title'])\n",
    "print(grouped['Age'].median())\n",
    "'''\n",
    "def fillAges(row):\n",
    "    if row['Sex']=='female' and row['Pclass'] == 1:\n",
    "        if row['Title'] == 'Miss':\n",
    "            return 30\n",
    "        elif row['Title'] == 'Mrs':\n",
    "            return 43\n",
    "        elif row['Title'] == 'Esteemed':\n",
    "            return 44\n",
    "        elif row['Title'] == 'Royalty':\n",
    "            return 41\n",
    "\n",
    "    elif row['Sex']=='female' and row['Pclass'] == 2:\n",
    "        if row['Title'] == 'Miss':\n",
    "            return 21\n",
    "        elif row['Title'] == 'Mrs':\n",
    "            return 30\n",
    "\n",
    "    elif row['Sex']=='female' and row['Pclass'] == 3:\n",
    "        if row['Title'] == 'Miss':\n",
    "            return 23\n",
    "        elif row['Title'] == 'Mrs':\n",
    "            return 28\n",
    "\n",
    "    elif row['Sex']=='male' and row['Pclass'] == 1:\n",
    "        if row['Title'] == 'Master':\n",
    "            return 6\n",
    "        elif row['Title'] == 'Mr':\n",
    "            return 36\n",
    "        elif row['Title'] == 'Esteemed':\n",
    "            return 50\n",
    "        elif row['Title'] == 'Royalty':\n",
    "            return 45\n",
    "\n",
    "    elif row['Sex']=='male' and row['Pclass'] == 2:\n",
    "        if row['Title'] == 'Master':\n",
    "            return 2\n",
    "        elif row['Title'] == 'Mr':\n",
    "            return 29\n",
    "        elif row['Title'] == 'Esteemed':\n",
    "            return 42\n",
    "\n",
    "    elif row['Sex']=='male' and row['Pclass'] == 3:\n",
    "        if row['Title'] == 'Master':\n",
    "            return 7\n",
    "        elif row['Title'] == 'Mr':\n",
    "            return 28\n",
    "\n",
    "#print(combined_df.apply(lambda r : fillAges(r) if np.isnan(r['Age']) else r['Age'], axis=1)[0:6])\n",
    "#print(combined_df.head(6))\n",
    "combined_df.Age = combined_df.apply(lambda r : fillAges(r) if np.isnan(r['Age']) else r['Age'], axis=1)\n",
    "\n",
    "print(combined_df[combined_df['Age'].isnull()])\n",
    "\n",
    "# convert from float to int\n",
    "combined_df['Age'] = combined_df['Age'].astype(int)\n",
    "''';"
   ]
  },
  {
   "cell_type": "code",
   "execution_count": 7,
   "metadata": {
    "collapsed": false
   },
   "outputs": [],
   "source": [
    "'''# Automatically impute missing age values using the fancyimpute package\n",
    "impute_missing = combined_df.drop(['Cabin', 'IsTrainData', 'Name', 'PassengerId', 'Survived', 'Ticket', 'Title'], axis=1)\n",
    "impute_missing['Sex'] = impute_missing['Sex'].map( {'female': 0, 'male': 1} ).astype(int)\n",
    "\n",
    "filled_soft = fancyimpute.MICE(n_imputations=6, impute_type='col').complete(np.array(impute_missing))\n",
    "\n",
    "# compare\n",
    "imputed_ages = pd.DataFrame(filled_soft, columns = list(impute_missing))\n",
    "sns.kdeplot(imputed_ages['Age'], label = 'imputed')\n",
    "ax = sns.kdeplot(combined_df['Age'], label = 'original')\n",
    "ax.set(xlabel='Age', ylabel='Density');\n",
    "\n",
    "# if all looks ok and we maintain the same sort of distribution then update\n",
    "all_titanic['Age'] = imputed_ages['Age']\n",
    "''';"
   ]
  },
  {
   "cell_type": "code",
   "execution_count": 8,
   "metadata": {
    "collapsed": false
   },
   "outputs": [
    {
     "name": "stdout",
     "output_type": "stream",
     "text": [
      "Sex     Pclass  Title   \n",
      "female  1       Esteemed    44.000000\n",
      "                Miss        30.000000\n",
      "                Mrs         45.000000\n",
      "                Royalty     40.500000\n",
      "        2       Miss        20.000000\n",
      "                Mrs         30.000000\n",
      "        3       Miss        20.000000\n",
      "                Mrs         31.000000\n",
      "male    1       Esteemed    52.000000\n",
      "                Master       6.000000\n",
      "                Mr          42.666667\n",
      "                Royalty     44.500000\n",
      "        2       Esteemed    41.500000\n",
      "                Master       2.000000\n",
      "                Mr          30.500000\n",
      "        3       Master       6.000000\n",
      "                Mr          27.346154\n",
      "Name: Age, dtype: float64\n"
     ]
    },
    {
     "data": {
      "image/png": "[encoded data removed]",
      "text/plain": [
       "<matplotlib.figure.Figure at 0xb6c0470>"
      ]
     },
     "metadata": {},
     "output_type": "display_data"
    }
   ],
   "source": [
    "# use a decision tree to predict the one missing fare observation, using other features as predictors.\n",
    "features = ['Pclass', 'SibSp', 'Parch']\n",
    "all_ages = combined_df.loc[pd.notnull(combined_df['Age'])].drop(['Cabin', 'IsTrainData', 'Name', 'PassengerId', 'Survived', 'Ticket', 'Title'], axis=1)\n",
    "missing_ages = combined_df.loc[pd.isnull(combined_df['Age'])].drop(['Cabin', 'IsTrainData', 'Name', 'PassengerId', 'Survived', 'Ticket', 'Title'], axis=1)\n",
    "all_ages['Sex'] = all_ages['Sex'].map( {'female': 0, 'male': 1} ).astype(int)\n",
    "missing_ages['Sex'] = missing_ages['Sex'].map( {'female': 0, 'male': 1} ).astype(int)\n",
    "#print(combined_df.iloc[missing_fare.index.values]) # print before values\n",
    "sns.kdeplot(all_ages['Age'], label = 'before')\n",
    "\n",
    "#Create and fit a decision tree Regressor\n",
    "clf = DecisionTreeRegressor(random_state=0)\n",
    "X = all_ages.drop(['Age'], axis=1)\n",
    "y = all_ages['Age']\n",
    "clf.fit(X, y)\n",
    "\n",
    "# Predict fare \n",
    "combined_df.loc[pd.isnull(combined_df['Age']), 'Age'] = clf.predict(missing_ages.drop(['Age'], axis=1))\n",
    "#print(combined_df.iloc[missing_fare.index.values]) # print after values\n",
    "\n",
    "# compare\n",
    "ax = sns.kdeplot(combined_df['Age'], label = 'original')\n",
    "ax.set(xlabel='Age', ylabel='Density');\n",
    "\n",
    "grouped = combined_df.groupby(['Sex','Pclass','Title'])\n",
    "print(grouped['Age'].median())"
   ]
  },
  {
   "cell_type": "markdown",
   "metadata": {},
   "source": [
    "### Sex ###\n",
    "Convert to numerical."
   ]
  },
  {
   "cell_type": "code",
   "execution_count": 9,
   "metadata": {
    "collapsed": false
   },
   "outputs": [
    {
     "data": {
      "text/plain": [
       "array(['male', 'female'], dtype=object)"
      ]
     },
     "execution_count": 9,
     "metadata": {},
     "output_type": "execute_result"
    }
   ],
   "source": [
    "pd.unique(combined_df.Sex)"
   ]
  },
  {
   "cell_type": "code",
   "execution_count": 10,
   "metadata": {
    "collapsed": false,
    "scrolled": true
   },
   "outputs": [],
   "source": [
    "# Convert string values to numerical one \n",
    "combined_df['Sex'] = combined_df['Sex'].map({'male':1,'female':0}).astype(int)"
   ]
  },
  {
   "cell_type": "markdown",
   "metadata": {
    "collapsed": true
   },
   "source": [
    "### Family Size ###"
   ]
  },
  {
   "cell_type": "code",
   "execution_count": 11,
   "metadata": {
    "collapsed": true
   },
   "outputs": [],
   "source": [
    "combined_df['FamilySize'] = combined_df['SibSp'] + combined_df['Parch'] + 1"
   ]
  },
  {
   "cell_type": "markdown",
   "metadata": {},
   "source": [
    "## Final correction of data ##\n",
    "\n",
    "We need to remove some values such as string entries or others that we won't use. "
   ]
  },
  {
   "cell_type": "code",
   "execution_count": 12,
   "metadata": {
    "collapsed": false
   },
   "outputs": [
    {
     "name": "stdout",
     "output_type": "stream",
     "text": [
      "<class 'pandas.core.frame.DataFrame'>\n",
      "Int64Index: 1307 entries, 0 to 1308\n",
      "Data columns (total 19 columns):\n",
      "Age               1307 non-null float64\n",
      "Fare              1307 non-null float64\n",
      "IsTrainData       1307 non-null int64\n",
      "Parch             1307 non-null int64\n",
      "PassengerId       1307 non-null int64\n",
      "Pclass            1307 non-null int64\n",
      "Sex               1307 non-null int32\n",
      "SibSp             1307 non-null int64\n",
      "Survived          1307 non-null int64\n",
      "Embarked_C        1307 non-null float64\n",
      "Embarked_Q        1307 non-null float64\n",
      "Embarked_S        1307 non-null float64\n",
      "Title_Esteemed    1307 non-null float64\n",
      "Title_Master      1307 non-null float64\n",
      "Title_Miss        1307 non-null float64\n",
      "Title_Mr          1307 non-null float64\n",
      "Title_Mrs         1307 non-null float64\n",
      "Title_Royalty     1307 non-null float64\n",
      "FamilySize        1307 non-null int64\n",
      "dtypes: float64(11), int32(1), int64(7)\n",
      "memory usage: 199.1 KB\n"
     ]
    }
   ],
   "source": [
    "# drop string values - these should be convirted\n",
    "combined_df.drop([\"Cabin\", \"Ticket\", \"Name\", \"Title\"],axis=1,inplace=True)\n",
    "combined_df = combined_df.dropna()\n",
    "combined_df.info()"
   ]
  },
  {
   "cell_type": "markdown",
   "metadata": {},
   "source": [
    "### Perform Feature Scaling ###"
   ]
  },
  {
   "cell_type": "code",
   "execution_count": 13,
   "metadata": {
    "collapsed": false
   },
   "outputs": [
    {
     "name": "stderr",
     "output_type": "stream",
     "text": [
      "C:\\Anaconda3\\lib\\site-packages\\sklearn\\preprocessing\\data.py:583: DeprecationWarning: Passing 1d arrays as data is deprecated in 0.17 and will raise ValueError in 0.19. Reshape your data either using X.reshape(-1, 1) if your data has a single feature or X.reshape(1, -1) if it contains a single sample.\n",
      "  warnings.warn(DEPRECATION_MSG_1D, DeprecationWarning)\n",
      "C:\\Anaconda3\\lib\\site-packages\\sklearn\\preprocessing\\data.py:646: DeprecationWarning: Passing 1d arrays as data is deprecated in 0.17 and will raise ValueError in 0.19. Reshape your data either using X.reshape(-1, 1) if your data has a single feature or X.reshape(1, -1) if it contains a single sample.\n",
      "  warnings.warn(DEPRECATION_MSG_1D, DeprecationWarning)\n",
      "C:\\Anaconda3\\lib\\site-packages\\sklearn\\preprocessing\\data.py:583: DeprecationWarning: Passing 1d arrays as data is deprecated in 0.17 and will raise ValueError in 0.19. Reshape your data either using X.reshape(-1, 1) if your data has a single feature or X.reshape(1, -1) if it contains a single sample.\n",
      "  warnings.warn(DEPRECATION_MSG_1D, DeprecationWarning)\n",
      "C:\\Anaconda3\\lib\\site-packages\\sklearn\\preprocessing\\data.py:646: DeprecationWarning: Passing 1d arrays as data is deprecated in 0.17 and will raise ValueError in 0.19. Reshape your data either using X.reshape(-1, 1) if your data has a single feature or X.reshape(1, -1) if it contains a single sample.\n",
      "  warnings.warn(DEPRECATION_MSG_1D, DeprecationWarning)\n",
      "C:\\Anaconda3\\lib\\site-packages\\sklearn\\preprocessing\\data.py:583: DeprecationWarning: Passing 1d arrays as data is deprecated in 0.17 and will raise ValueError in 0.19. Reshape your data either using X.reshape(-1, 1) if your data has a single feature or X.reshape(1, -1) if it contains a single sample.\n",
      "  warnings.warn(DEPRECATION_MSG_1D, DeprecationWarning)\n",
      "C:\\Anaconda3\\lib\\site-packages\\sklearn\\preprocessing\\data.py:646: DeprecationWarning: Passing 1d arrays as data is deprecated in 0.17 and will raise ValueError in 0.19. Reshape your data either using X.reshape(-1, 1) if your data has a single feature or X.reshape(1, -1) if it contains a single sample.\n",
      "  warnings.warn(DEPRECATION_MSG_1D, DeprecationWarning)\n"
     ]
    },
    {
     "data": {
      "text/html": [
       "<div>\n",
       "<table border=\"1\" class=\"dataframe\">\n",
       "  <thead>\n",
       "    <tr style=\"text-align: right;\">\n",
       "      <th></th>\n",
       "      <th>Age</th>\n",
       "      <th>Fare</th>\n",
       "      <th>IsTrainData</th>\n",
       "      <th>Parch</th>\n",
       "      <th>PassengerId</th>\n",
       "      <th>Pclass</th>\n",
       "      <th>Sex</th>\n",
       "      <th>SibSp</th>\n",
       "      <th>Survived</th>\n",
       "      <th>Embarked_C</th>\n",
       "      <th>Embarked_Q</th>\n",
       "      <th>Embarked_S</th>\n",
       "      <th>Title_Esteemed</th>\n",
       "      <th>Title_Master</th>\n",
       "      <th>Title_Miss</th>\n",
       "      <th>Title_Mr</th>\n",
       "      <th>Title_Mrs</th>\n",
       "      <th>Title_Royalty</th>\n",
       "      <th>FamilySize</th>\n",
       "    </tr>\n",
       "  </thead>\n",
       "  <tbody>\n",
       "    <tr>\n",
       "      <th>count</th>\n",
       "      <td>1.307000e+03</td>\n",
       "      <td>1.307000e+03</td>\n",
       "      <td>1307.000000</td>\n",
       "      <td>1307.000000</td>\n",
       "      <td>1307.000000</td>\n",
       "      <td>1307.000000</td>\n",
       "      <td>1307.000000</td>\n",
       "      <td>1307.000000</td>\n",
       "      <td>1307.000000</td>\n",
       "      <td>1307.000000</td>\n",
       "      <td>1307.000000</td>\n",
       "      <td>1307.000000</td>\n",
       "      <td>1307.000000</td>\n",
       "      <td>1307.000000</td>\n",
       "      <td>1307.000000</td>\n",
       "      <td>1307.000000</td>\n",
       "      <td>1307.000000</td>\n",
       "      <td>1307.000000</td>\n",
       "      <td>1307.000000</td>\n",
       "    </tr>\n",
       "    <tr>\n",
       "      <th>mean</th>\n",
       "      <td>5.069480e-16</td>\n",
       "      <td>9.866290e-17</td>\n",
       "      <td>0.680184</td>\n",
       "      <td>0.385616</td>\n",
       "      <td>655.319816</td>\n",
       "      <td>2.296863</td>\n",
       "      <td>0.644989</td>\n",
       "      <td>0.499617</td>\n",
       "      <td>-319.236419</td>\n",
       "      <td>0.206580</td>\n",
       "      <td>0.094109</td>\n",
       "      <td>0.699311</td>\n",
       "      <td>0.019128</td>\n",
       "      <td>0.046672</td>\n",
       "      <td>0.201224</td>\n",
       "      <td>0.579189</td>\n",
       "      <td>0.150727</td>\n",
       "      <td>0.003060</td>\n",
       "      <td>1.885233</td>\n",
       "    </tr>\n",
       "    <tr>\n",
       "      <th>std</th>\n",
       "      <td>1.000383e+00</td>\n",
       "      <td>1.000383e+00</td>\n",
       "      <td>0.466584</td>\n",
       "      <td>0.866092</td>\n",
       "      <td>377.922205</td>\n",
       "      <td>0.836942</td>\n",
       "      <td>0.478702</td>\n",
       "      <td>1.042273</td>\n",
       "      <td>466.295817</td>\n",
       "      <td>0.405006</td>\n",
       "      <td>0.292092</td>\n",
       "      <td>0.458733</td>\n",
       "      <td>0.137027</td>\n",
       "      <td>0.211016</td>\n",
       "      <td>0.401069</td>\n",
       "      <td>0.493878</td>\n",
       "      <td>0.357919</td>\n",
       "      <td>0.055258</td>\n",
       "      <td>1.584473</td>\n",
       "    </tr>\n",
       "    <tr>\n",
       "      <th>min</th>\n",
       "      <td>-2.152117e+00</td>\n",
       "      <td>-6.418919e-01</td>\n",
       "      <td>0.000000</td>\n",
       "      <td>0.000000</td>\n",
       "      <td>1.000000</td>\n",
       "      <td>1.000000</td>\n",
       "      <td>0.000000</td>\n",
       "      <td>0.000000</td>\n",
       "      <td>-999.000000</td>\n",
       "      <td>0.000000</td>\n",
       "      <td>0.000000</td>\n",
       "      <td>0.000000</td>\n",
       "      <td>0.000000</td>\n",
       "      <td>0.000000</td>\n",
       "      <td>0.000000</td>\n",
       "      <td>0.000000</td>\n",
       "      <td>0.000000</td>\n",
       "      <td>0.000000</td>\n",
       "      <td>1.000000</td>\n",
       "    </tr>\n",
       "    <tr>\n",
       "      <th>25%</th>\n",
       "      <td>-6.429742e-01</td>\n",
       "      <td>-4.892590e-01</td>\n",
       "      <td>0.000000</td>\n",
       "      <td>0.000000</td>\n",
       "      <td>328.500000</td>\n",
       "      <td>2.000000</td>\n",
       "      <td>0.000000</td>\n",
       "      <td>0.000000</td>\n",
       "      <td>-999.000000</td>\n",
       "      <td>0.000000</td>\n",
       "      <td>0.000000</td>\n",
       "      <td>0.000000</td>\n",
       "      <td>0.000000</td>\n",
       "      <td>0.000000</td>\n",
       "      <td>0.000000</td>\n",
       "      <td>0.000000</td>\n",
       "      <td>0.000000</td>\n",
       "      <td>0.000000</td>\n",
       "      <td>1.000000</td>\n",
       "    </tr>\n",
       "    <tr>\n",
       "      <th>50%</th>\n",
       "      <td>-1.358211e-01</td>\n",
       "      <td>-3.624793e-01</td>\n",
       "      <td>1.000000</td>\n",
       "      <td>0.000000</td>\n",
       "      <td>655.000000</td>\n",
       "      <td>3.000000</td>\n",
       "      <td>1.000000</td>\n",
       "      <td>0.000000</td>\n",
       "      <td>0.000000</td>\n",
       "      <td>0.000000</td>\n",
       "      <td>0.000000</td>\n",
       "      <td>1.000000</td>\n",
       "      <td>0.000000</td>\n",
       "      <td>0.000000</td>\n",
       "      <td>0.000000</td>\n",
       "      <td>1.000000</td>\n",
       "      <td>0.000000</td>\n",
       "      <td>0.000000</td>\n",
       "      <td>1.000000</td>\n",
       "    </tr>\n",
       "    <tr>\n",
       "      <th>75%</th>\n",
       "      <td>5.886834e-01</td>\n",
       "      <td>-3.731822e-02</td>\n",
       "      <td>1.000000</td>\n",
       "      <td>0.000000</td>\n",
       "      <td>982.500000</td>\n",
       "      <td>3.000000</td>\n",
       "      <td>1.000000</td>\n",
       "      <td>1.000000</td>\n",
       "      <td>1.000000</td>\n",
       "      <td>0.000000</td>\n",
       "      <td>0.000000</td>\n",
       "      <td>1.000000</td>\n",
       "      <td>0.000000</td>\n",
       "      <td>0.000000</td>\n",
       "      <td>0.000000</td>\n",
       "      <td>1.000000</td>\n",
       "      <td>0.000000</td>\n",
       "      <td>0.000000</td>\n",
       "      <td>2.000000</td>\n",
       "    </tr>\n",
       "    <tr>\n",
       "      <th>max</th>\n",
       "      <td>3.631602e+00</td>\n",
       "      <td>9.261889e+00</td>\n",
       "      <td>1.000000</td>\n",
       "      <td>9.000000</td>\n",
       "      <td>1309.000000</td>\n",
       "      <td>3.000000</td>\n",
       "      <td>1.000000</td>\n",
       "      <td>8.000000</td>\n",
       "      <td>1.000000</td>\n",
       "      <td>1.000000</td>\n",
       "      <td>1.000000</td>\n",
       "      <td>1.000000</td>\n",
       "      <td>1.000000</td>\n",
       "      <td>1.000000</td>\n",
       "      <td>1.000000</td>\n",
       "      <td>1.000000</td>\n",
       "      <td>1.000000</td>\n",
       "      <td>1.000000</td>\n",
       "      <td>11.000000</td>\n",
       "    </tr>\n",
       "  </tbody>\n",
       "</table>\n",
       "</div>"
      ],
      "text/plain": [
       "                Age          Fare  IsTrainData        Parch  PassengerId  \\\n",
       "count  1.307000e+03  1.307000e+03  1307.000000  1307.000000  1307.000000   \n",
       "mean   5.069480e-16  9.866290e-17     0.680184     0.385616   655.319816   \n",
       "std    1.000383e+00  1.000383e+00     0.466584     0.866092   377.922205   \n",
       "min   -2.152117e+00 -6.418919e-01     0.000000     0.000000     1.000000   \n",
       "25%   -6.429742e-01 -4.892590e-01     0.000000     0.000000   328.500000   \n",
       "50%   -1.358211e-01 -3.624793e-01     1.000000     0.000000   655.000000   \n",
       "75%    5.886834e-01 -3.731822e-02     1.000000     0.000000   982.500000   \n",
       "max    3.631602e+00  9.261889e+00     1.000000     9.000000  1309.000000   \n",
       "\n",
       "            Pclass          Sex        SibSp     Survived   Embarked_C  \\\n",
       "count  1307.000000  1307.000000  1307.000000  1307.000000  1307.000000   \n",
       "mean      2.296863     0.644989     0.499617  -319.236419     0.206580   \n",
       "std       0.836942     0.478702     1.042273   466.295817     0.405006   \n",
       "min       1.000000     0.000000     0.000000  -999.000000     0.000000   \n",
       "25%       2.000000     0.000000     0.000000  -999.000000     0.000000   \n",
       "50%       3.000000     1.000000     0.000000     0.000000     0.000000   \n",
       "75%       3.000000     1.000000     1.000000     1.000000     0.000000   \n",
       "max       3.000000     1.000000     8.000000     1.000000     1.000000   \n",
       "\n",
       "        Embarked_Q   Embarked_S  Title_Esteemed  Title_Master   Title_Miss  \\\n",
       "count  1307.000000  1307.000000     1307.000000   1307.000000  1307.000000   \n",
       "mean      0.094109     0.699311        0.019128      0.046672     0.201224   \n",
       "std       0.292092     0.458733        0.137027      0.211016     0.401069   \n",
       "min       0.000000     0.000000        0.000000      0.000000     0.000000   \n",
       "25%       0.000000     0.000000        0.000000      0.000000     0.000000   \n",
       "50%       0.000000     1.000000        0.000000      0.000000     0.000000   \n",
       "75%       0.000000     1.000000        0.000000      0.000000     0.000000   \n",
       "max       1.000000     1.000000        1.000000      1.000000     1.000000   \n",
       "\n",
       "          Title_Mr    Title_Mrs  Title_Royalty   FamilySize  \n",
       "count  1307.000000  1307.000000    1307.000000  1307.000000  \n",
       "mean      0.579189     0.150727       0.003060     1.885233  \n",
       "std       0.493878     0.357919       0.055258     1.584473  \n",
       "min       0.000000     0.000000       0.000000     1.000000  \n",
       "25%       0.000000     0.000000       0.000000     1.000000  \n",
       "50%       1.000000     0.000000       0.000000     1.000000  \n",
       "75%       1.000000     0.000000       0.000000     2.000000  \n",
       "max       1.000000     1.000000       1.000000    11.000000  "
      ]
     },
     "execution_count": 13,
     "metadata": {},
     "output_type": "execute_result"
    }
   ],
   "source": [
    "combined_df[['Age','Fare']] = combined_df[['Age','Fare']].apply(lambda x: StandardScaler().fit_transform(x))\n",
    "combined_df.describe()"
   ]
  },
  {
   "cell_type": "markdown",
   "metadata": {},
   "source": [
    "## Create Final Train and Test Datasets ##"
   ]
  },
  {
   "cell_type": "code",
   "execution_count": 14,
   "metadata": {
    "collapsed": false
   },
   "outputs": [
    {
     "name": "stdout",
     "output_type": "stream",
     "text": [
      "Total Training Samples: 889\n",
      "Total Test Samples: 418\n"
     ]
    }
   ],
   "source": [
    "# define training and testing sets\n",
    "X_train = combined_df[combined_df['IsTrainData']==1].drop([\"PassengerId\", \"Survived\", \"IsTrainData\"],axis=1)\n",
    "Y_train = combined_df[combined_df['IsTrainData']==1][\"Survived\"]\n",
    "X_test  = combined_df[combined_df['IsTrainData']==0].drop([\"PassengerId\", \"Survived\", \"IsTrainData\"],axis=1)\n",
    "\n",
    "# Verify totals\n",
    "#print(\"Survived: \" + str(len(Y_train[Y_train['Survived'] == 1])))\n",
    "#print(\"Died: \" + str(len(Y_train[Y_train['Survived'] == 0])))\n",
    "print(\"Total Training Samples: \" + str(len(X_train)))\n",
    "print(\"Total Test Samples: \" + str(len(X_test)))"
   ]
  },
  {
   "cell_type": "markdown",
   "metadata": {},
   "source": [
    "## Build Models and Test ##\n",
    "First some helper methods"
   ]
  },
  {
   "cell_type": "code",
   "execution_count": 44,
   "metadata": {
    "collapsed": false,
    "scrolled": true
   },
   "outputs": [],
   "source": [
    "# Run and evaluate model\n",
    "def evaluate_model(model, X_train, Y_train, X_test):\n",
    "    # fit the model against the training data\n",
    "    model.fit(X_train, Y_train)\n",
    "\n",
    "    # get scores based upon 5 fold cross validation\n",
    "    scores = cross_val_score(model, X_train, Y_train, cv=5)\n",
    "    print(\"Fold Accuracies: \" + str(scores))\n",
    "    print(\"Accuracy: %0.2f (+/- %0.2f @2std)\" % (scores.mean(), scores.std() * 2))\n",
    "\n",
    "    # Compute confusion matrix\n",
    "    prediction = cross_val_predict(model, X_train, Y_train)\n",
    "    cm = confusion_matrix(Y_train, prediction)\n",
    "    print('Confusion matrix, without normalization')\n",
    "    print(cm)\n",
    "    plot_confusion_matrix(cm, np.array([\"Died\", \"Survived\"]))\n",
    "\n",
    "    # predics test classes\n",
    "    Y_pred = model.predict(X_test)\n",
    "    return Y_pred\n",
    "\n",
    "\n",
    "def get_optimised_model(model, hyperparameters, X_train, y_train, folds = 5, display_all_scores = False):\n",
    "    \"\"\"\n",
    "    Given a [model] and a set of possible [hyperparameters], along with \n",
    "    matricies corresponding to hold-out cross-validation, returns a model w/ \n",
    "    optimized hyperparameters, and prints out model evaluation metrics.\n",
    "    \"\"\"\n",
    "    # fit the model against the training data and determine parameters to get an optimised model.\n",
    "    optimized_model = GridSearchCV(model, hyperparameters, cv = folds, n_jobs = 1)\n",
    "    optimized_model.fit(X_train, y_train)\n",
    "    print(\"Best accuracy: %f using %s\" % (optimized_model.best_score_, optimized_model.best_params_))\n",
    "    if display_all_scores:\n",
    "        for params, mean_score, scores in optimized_model.grid_scores_:\n",
    "            print(\"%f (%f) with: %r\" % (scores.mean(), scores.std(), params))    \n",
    "\n",
    "    # get scores based upon 5 fold cross validation\n",
    "    scores = cross_val_score(optimized_model, X_train, Y_train, cv=5)\n",
    "    print(\"Cross Validation Fold Accuracies: \" + str(scores))\n",
    "    print(\"Cross Validation Accuracy: %0.2f (+/- %0.2f @2std)\" % (scores.mean(), scores.std() * 2))\n",
    "\n",
    "    # get other metrics\n",
    "    precisions = cross_val_score(optimized_model, X_train, Y_train, cv=5, scoring='precision')\n",
    "    print('Cross Validation Precision: ' + str(np.mean(precisions)) + str(precisions))\n",
    "    recalls = cross_val_score(optimized_model, X_train, Y_train, cv=5, scoring='recall')\n",
    "    print('Cross Validation Recall: ' + str(np.mean(recalls)) + str(recalls))\n",
    "    f1s = cross_val_score(optimized_model, X_train, Y_train, cv=5, scoring='f1')\n",
    "    print('Cross Validation F1: ' + str(np.mean(f1s)) + str(f1s))\n",
    "\n",
    "    return optimized_model\n",
    "          \n",
    "\n",
    "def fit_model(model, X_train, Y_train):\n",
    "    \"\"\"\n",
    "    Fit a given model against the specified train set and compare reference predictions against the\n",
    "    supplied target outputs\n",
    "    \"\"\"\n",
    "    model.fit(X_train, Y_train)\n",
    "    predictions = model.predict(X_train)\n",
    "    print('Train Accuracy: ' + str(accuracy_score(Y_train, predictions)))\n",
    "    print('Train Precision: ' + str(precision_score(Y_train, predictions)))\n",
    "    print('Train Recall: ' + str(recall_score(Y_train, predictions)))\n",
    "    cm = confusion_matrix(Y_train, predictions)\n",
    "    print('Confusion matrix, without normalization')\n",
    "    print(cm)\n",
    "    plot_confusion_matrix(cm, np.array([\"Died\", \"Survived\"]))    \n",
    "    #plot_roc(Y_train, predictions)      \n",
    "          \n",
    "    \n",
    "def get_test_predictions(model, X_test):\n",
    "    \"\"\"\n",
    "    Get predictions for a model based upon the given set of inputs\n",
    "    \"\"\"    \n",
    "    # predics test classes\n",
    "    Y_pred = model.predict(X_test)\n",
    "    return Y_pred\n",
    "\n",
    "\n",
    "def create_submission_file(test_df, Y_pred, file_name):\n",
    "    \"\"\"\n",
    "    Create a kaggle submission file\n",
    "    \"\"\"    \n",
    "    submission = pd.DataFrame({\n",
    "        \"PassengerId\": test_df[\"PassengerId\"],\n",
    "        \"Survived\": Y_pred\n",
    "    })\n",
    "    submission.to_csv(file_name, index=False)\n",
    "\n",
    "    \n",
    "def plot_confusion_matrix(cm, tickLabels, title='Confusion matrix', cmap=plt.cm.Blues):\n",
    "    \"\"\"\n",
    "    Plot confusion matrix\n",
    "    \"\"\"\n",
    "    plt.imshow(cm, interpolation='nearest', cmap=cmap)\n",
    "    plt.title(title)\n",
    "    plt.colorbar()\n",
    "    tick_marks = np.arange(len(tickLabels))\n",
    "    plt.xticks(tick_marks, tickLabels, rotation=45)\n",
    "    plt.yticks(tick_marks, tickLabels)\n",
    "    plt.tight_layout()\n",
    "    plt.ylabel('True label')\n",
    "    plt.xlabel('Predicted label')\n",
    "          \n",
    "          \n",
    "   \n",
    "def plot_roc(Y, predictions):\n",
    "    \"\"\"\n",
    "    Plot Receiver Operating Characteristic (ROC) graph\n",
    "    \"\"\"\n",
    "    false_positive_rate, recall, thresholds = roc_curve(Y[:,1], predictions[:, 1])\n",
    "    roc_auc = auc(false_positive_rate, recall)\n",
    "    plt.title('Receiver Operating Characteristic (ROC)')\n",
    "    plt.plot(false_positive_rate, recall, 'b', label='AUC = %0.2f' % roc_auc)\n",
    "    plt.legend(loc='lower right')\n",
    "    plt.plot([0, 1], [0, 1], 'r--')\n",
    "    plt.xlim([0.0, 1.0])\n",
    "    plt.ylim([0.0, 1.0])\n",
    "    plt.ylabel('Recall')\n",
    "    plt.xlabel('Fall-out')\n",
    "    plt.show()\n",
    "          "
   ]
  },
  {
   "cell_type": "markdown",
   "metadata": {},
   "source": [
    "## Baseline (ZeroR) classification ##\n",
    "\n",
    "At this stage out training set has **889** entries of which the most common output class is that they died with **549** entries.\n",
    "\n",
    "We could achieve an accuracy of **61.75%** by just predicting 'died' for all cases so this should be our absolute baseline! "
   ]
  },
  {
   "cell_type": "markdown",
   "metadata": {},
   "source": [
    "## Gender Based Model ##\n",
    "Given the percentage of woman who survided was a lot higher than men, what happens if we just predict that all women lived and all men died"
   ]
  },
  {
   "cell_type": "code",
   "execution_count": 36,
   "metadata": {
    "collapsed": false
   },
   "outputs": [
    {
     "name": "stdout",
     "output_type": "stream",
     "text": [
      "Number of females: 312\n",
      "Number of males: 577\n",
      "Proportion of women who survived is 0.740384615385\n",
      "Proportion of men who survived is 0.188908145581\n"
     ]
    }
   ],
   "source": [
    "women = combined_df[(combined_df['IsTrainData']==1) & (combined_df['Sex']==0)]\n",
    "print('Number of females:', len(women))\n",
    "men = combined_df[(combined_df['IsTrainData']==1) & (combined_df['Sex']==1)]\n",
    "print('Number of males:', len(men))\n",
    "\n",
    "proportion_women_survived = np.sum(women['Survived'].tolist()) / np.size(women['Survived'].tolist()) \n",
    "proportion_men_survived = np.sum(men['Survived'].tolist()) / np.size(men['Survived'].tolist()) \n",
    "\n",
    "print('Proportion of women who survived is %s' % proportion_women_survived)\n",
    "print('Proportion of men who survived is %s' % proportion_men_survived)\n",
    "\n",
    "def predict(row):\n",
    "    if row['Sex'] == 0:\n",
    "        return 1\n",
    "    else:\n",
    "        return 0\n",
    "\n",
    "gender_test_df = test_df\n",
    "gender_test_df['Survived'] = gender_test_df.apply(predict, axis=1)\n",
    "\n",
    "gender_submission = gender_test_df[['PassengerId', 'Survived']]\n",
    "gender_submission.to_csv('gender_predictions.csv', index=False)"
   ]
  },
  {
   "cell_type": "markdown",
   "metadata": {},
   "source": [
    "## Machine Learning Models ##"
   ]
  },
  {
   "cell_type": "markdown",
   "metadata": {},
   "source": [
    "### Logistic Regression ###"
   ]
  },
  {
   "cell_type": "code",
   "execution_count": 45,
   "metadata": {
    "collapsed": false
   },
   "outputs": [
    {
     "name": "stdout",
     "output_type": "stream",
     "text": [
      "Best accuracy: 0.827897 using {'class_weight': None, 'C': 10}\n",
      "Cross Validation Fold Accuracies: [ 0.83146067  0.81460674  0.80337079  0.79775281  0.88135593]\n",
      "Cross Validation Accuracy: 0.83 (+/- 0.06 @2std)\n",
      "Cross Validation Precision: 0.788952551042[ 0.77142857  0.76923077  0.74626866  0.7962963   0.86153846]\n",
      "Cross Validation Recall: 0.744117647059[ 0.79411765  0.73529412  0.73529412  0.63235294  0.82352941]\n",
      "Cross Validation F1: 0.764450486317[ 0.7826087   0.7518797   0.74074074  0.70491803  0.84210526]\n",
      "Train Accuracy: 0.834645669291\n",
      "Train Precision: 0.802507836991\n",
      "Train Recall: 0.752941176471\n",
      "Confusion matrix, without normalization\n",
      "[[486  63]\n",
      " [ 84 256]]\n",
      "Wall time: 16.7 s\n"
     ]
    },
    {
     "data": {
      "image/png": "[encoded data removed]",
      "text/plain": [
       "<matplotlib.figure.Figure at 0xd857208>"
      ]
     },
     "metadata": {},
     "output_type": "display_data"
    }
   ],
   "source": [
    "%%time\n",
    "\n",
    "logreg_optimised = get_optimised_model(\n",
    "    LogisticRegression(random_state = 25), {\n",
    "        'C': [0.001, 0.01, 0.1, 1, 10, 100, 1000],\n",
    "        'class_weight': [None, 'balanced']}, \n",
    "    X_train, Y_train)\n",
    "#logreg_optimised = LogisticRegression(random_state=25, C=10, class_weight=auto)\n",
    "\n",
    "fit_model(logreg_optimised, X_train, Y_train)\n",
    "Y_predLogisticRegression = get_test_predictions(logreg_optimised, X_test)\n",
    "\n",
    "# get Correlation Coefficient for each feature using Logistic Regression\n",
    "coeff_df = DataFrame(X_train.columns.delete(0))\n",
    "coeff_df.columns = ['Features']\n",
    "coeff_df[\"Coefficient Estimate\"] = pd.Series(logreg_optimised.best_estimator_.coef_[0])\n",
    "\n",
    "# preview\n",
    "coeff_df\n",
    "\n",
    "create_submission_file(test_df, Y_predLogisticRegression, 'predictions_logreg.csv')"
   ]
  },
  {
   "cell_type": "markdown",
   "metadata": {},
   "source": [
    "### Support Vector Machines ###"
   ]
  },
  {
   "cell_type": "code",
   "execution_count": 16,
   "metadata": {
    "collapsed": false
   },
   "outputs": [
    {
     "name": "stdout",
     "output_type": "stream",
     "text": [
      "Best accuracy: 0.833521 using {'C': 100, 'gamma': 0.01}\n",
      "Cross Validation Fold Accuracies: [ 0.84269663  0.8258427   0.82022472  0.7752809   0.8700565 ]\n",
      "Cross Validation Accuracy: 0.83 (+/- 0.06 @2std)\n",
      "Train Accuracy: 0.839145106862\n",
      "Confusion matrix, without normalization\n",
      "[[494  55]\n",
      " [ 88 252]]\n",
      "Wall time: 2min 2s\n"
     ]
    },
    {
     "data": {
      "image/png": "[encoded data removed]",
      "text/plain": [
       "<matplotlib.figure.Figure at 0x87eaef0>"
      ]
     },
     "metadata": {},
     "output_type": "display_data"
    }
   ],
   "source": [
    "%%time\n",
    "\n",
    "svc_optimised = get_optimised_model(\n",
    "    SVC(random_state = 25), {\n",
    "        'C': [0.001, 0.01, 0.1, 1, 10, 100, 1000],\n",
    "        'gamma': np.logspace(-9,3,13)}, \n",
    "    X_train, Y_train)\n",
    "#svc_optimised = SVC(random_state=25, C=10, class_weight=auto)\n",
    "\n",
    "fit_model(svc_optimised, X_train, Y_train)\n",
    "Y_predSVC = get_test_predictions(svc_optimised, X_test)\n",
    "\n",
    "create_submission_file(test_df, Y_predSVC, 'predictions_svc.csv')"
   ]
  },
  {
   "cell_type": "markdown",
   "metadata": {},
   "source": [
    "### Random Forest ###"
   ]
  },
  {
   "cell_type": "code",
   "execution_count": 17,
   "metadata": {
    "collapsed": false
   },
   "outputs": [
    {
     "name": "stdout",
     "output_type": "stream",
     "text": [
      "Best accuracy: 0.827897 using {'min_samples_leaf': 1, 'max_depth': None, 'n_estimators': 800, 'min_samples_split': 10}\n",
      "Cross Validation Fold Accuracies: [ 0.82022472  0.79213483  0.82022472  0.80898876  0.84745763]\n",
      "Cross Validation Accuracy: 0.82 (+/- 0.04 @2std)\n",
      "Train Accuracy: 0.901012373453\n",
      "Confusion matrix, without normalization\n",
      "[[524  25]\n",
      " [ 63 277]]\n",
      "Wall time: 1min 53s\n"
     ]
    },
    {
     "data": {
      "image/png": "[encoded data removed]",
      "text/plain": [
       "<matplotlib.figure.Figure at 0x891af28>"
      ]
     },
     "metadata": {},
     "output_type": "display_data"
    }
   ],
   "source": [
    "%%time\n",
    "\n",
    "# Kaggle Score: 0.77512\n",
    "# random_forest = RandomForestClassifier(criterion='entropy', n_estimators=50, max_depth=8, min_samples_split=8, max_features=5)\n",
    "# Kaggle Score: 0.78469\n",
    "#random_forest = RandomForestClassifier(criterion='entropy', n_estimators=150, max_depth=10, min_samples_split=8, max_features=10)\n",
    "# Kaggle Score: 0.78947\n",
    "#random_forest = RandomForestClassifier(criterion='gini', n_estimators=200, max_depth=10, min_samples_split=10, max_features=12)\n",
    "\n",
    "rf_optimised = get_optimised_model(\n",
    "    RandomForestClassifier(random_state = 25), {\n",
    "        'n_estimators': [800,],#200, 400, 800, 1000],\n",
    "        'min_samples_split': [10],#1, 3, 10],\n",
    "        'min_samples_leaf': [1],#, 3, 10],\n",
    "        'max_depth': [3, None]}, \n",
    "    X_train, Y_train)\n",
    "#r_optimised = RandomForestClassifier(n_estimators=100, min_samples_split=1, min_samples_leaf=3, max_depth=None)\n",
    "#r_optimised = RandomForestClassifier(criterion='gini', n_estimators=100, max_depth=10, min_samples_split=10, max_features=12)\n",
    "\n",
    "fit_model(rf_optimised, X_train, Y_train)\n",
    "Y_predRF = get_test_predictions(rf_optimised, X_test)\n",
    "\n",
    "create_submission_file(test_df, Y_predRF, 'predictions_rf.csv')"
   ]
  },
  {
   "cell_type": "markdown",
   "metadata": {},
   "source": [
    "### K Nearest Neighbors ###"
   ]
  },
  {
   "cell_type": "code",
   "execution_count": 18,
   "metadata": {
    "collapsed": false
   },
   "outputs": [
    {
     "name": "stdout",
     "output_type": "stream",
     "text": [
      "Best accuracy: 0.811024 using {'n_neighbors': 7}\n",
      "Cross Validation Fold Accuracies: [ 0.82022472  0.76404494  0.79775281  0.80337079  0.85310734]\n",
      "Cross Validation Accuracy: 0.81 (+/- 0.06 @2std)\n",
      "Train Accuracy: 0.85151856018\n",
      "Confusion matrix, without normalization\n",
      "[[498  51]\n",
      " [ 81 259]]\n",
      "Wall time: 4.42 s\n"
     ]
    },
    {
     "data": {
      "image/png": "[encoded data removed]",
      "text/plain": [
       "<matplotlib.figure.Figure at 0xc16ee10>"
      ]
     },
     "metadata": {},
     "output_type": "display_data"
    }
   ],
   "source": [
    "%%time\n",
    "\n",
    "knn_optimised = get_optimised_model(\n",
    "    KNeighborsClassifier(), {\n",
    "        'n_neighbors': [1, 3, 5, 7, 9, 11, 13, 15]}, \n",
    "    X_train, Y_train)\n",
    "#knn_optimised = KNeighborsClassifier(n_neighbors = 3)\n",
    "\n",
    "fit_model(knn_optimised, X_train, Y_train)\n",
    "Y_predKNN = get_test_predictions(knn_optimised, X_test)\n",
    "\n",
    "create_submission_file(test_df, Y_predKNN, 'predictions_knn.csv')"
   ]
  },
  {
   "cell_type": "markdown",
   "metadata": {},
   "source": [
    "### Gaussian Naive Bayes ###"
   ]
  },
  {
   "cell_type": "code",
   "execution_count": 19,
   "metadata": {
    "collapsed": false
   },
   "outputs": [
    {
     "name": "stdout",
     "output_type": "stream",
     "text": [
      "Best accuracy: 0.795276 using {}\n",
      "Cross Validation Fold Accuracies: [ 0.7247191   0.82022472  0.80337079  0.7752809   0.85310734]\n",
      "Cross Validation Accuracy: 0.80 (+/- 0.09 @2std)\n",
      "Train Accuracy: 0.81664791901\n",
      "Confusion matrix, without normalization\n",
      "[[471  78]\n",
      " [ 85 255]]\n",
      "Wall time: 382 ms\n"
     ]
    },
    {
     "data": {
      "image/png": "[encoded data removed]",
      "text/plain": [
       "<matplotlib.figure.Figure at 0xb7ccf98>"
      ]
     },
     "metadata": {},
     "output_type": "display_data"
    }
   ],
   "source": [
    "%%time\n",
    "\n",
    "gaussian_optimised = get_optimised_model(\n",
    "    GaussianNB(), {}, \n",
    "    X_train, Y_train)\n",
    "#gaussian_optimised = GaussianNB()\n",
    "\n",
    "fit_model(gaussian_optimised, X_train, Y_train)\n",
    "Y_predGaussian = get_test_predictions(gaussian_optimised, X_test)\n",
    "\n",
    "create_submission_file(test_df, Y_predGaussian, 'predictions_gaussian.csv')"
   ]
  },
  {
   "cell_type": "markdown",
   "metadata": {},
   "source": [
    "### XGBoost ###"
   ]
  },
  {
   "cell_type": "code",
   "execution_count": null,
   "metadata": {
    "collapsed": true
   },
   "outputs": [],
   "source": [
    "%%time\n",
    "\n",
    "gbt_optimised = get_optimised_model(\n",
    "    xgb.XGBClassifier(learning_rate = 0.05, n_estimators = 200, seed = 25), {\n",
    "        'max_depth': range(3, 10, 2), \n",
    "        'min_child_weight': range(1, 6, 2),\n",
    "        'gamma': [i / 10.0 for i in range(0, 5)], \n",
    "        'reg_alpha': [0.001, 0.01, 0.1, 1, 10, 100, 1000]}, \n",
    "    X_train, Y_train)\n",
    "#gbt_optimised = KNeighborsClassifier(n_neighbors = 3)\n",
    "\n",
    "fit_model(gbt_optimised, X_train, Y_train)\n",
    "Y_pred_gbt = get_test_predictions(gbt_optimised, X_test)\n",
    "\n",
    "create_submission_file(test_df, Y_pred_gbt, 'predictions_gbt.csv')"
   ]
  },
  {
   "cell_type": "markdown",
   "metadata": {},
   "source": [
    "### ADABoost ###"
   ]
  },
  {
   "cell_type": "code",
   "execution_count": 20,
   "metadata": {
    "collapsed": false
   },
   "outputs": [
    {
     "name": "stdout",
     "output_type": "stream",
     "text": [
      "Best accuracy: 0.825647 using {'n_estimators': 100, 'learning_rate': 0.1}\n",
      "Cross Validation Fold Accuracies: [ 0.8258427   0.80337079  0.82022472  0.81460674  0.85310734]\n",
      "Cross Validation Accuracy: 0.82 (+/- 0.03 @2std)\n",
      "Train Accuracy: 0.834645669291\n",
      "Confusion matrix, without normalization\n",
      "[[489  60]\n",
      " [ 87 253]]\n",
      "Wall time: 1min 37s\n"
     ]
    },
    {
     "data": {
      "image/png": "[encoded data removed]",
      "text/plain": [
       "<matplotlib.figure.Figure at 0xb733518>"
      ]
     },
     "metadata": {},
     "output_type": "display_data"
    }
   ],
   "source": [
    "%%time\n",
    "\n",
    "adaboost_optimised = get_optimised_model(\n",
    "    AdaBoostClassifier(random_state = 25), {\n",
    "        'n_estimators': [20,50,100], \n",
    "        'learning_rate': [0.001, 0.01, 0.1, 1, 10, 100, 1000]}, \n",
    "    X_train, Y_train)\n",
    "#gbt_optimised = KNeighborsClassifier(n_neighbors = 3)\n",
    "\n",
    "fit_model(adaboost_optimised, X_train, Y_train)\n",
    "Y_pred_adaboost = get_test_predictions(adaboost_optimised, X_test)\n",
    "\n",
    "create_submission_file(test_df, Y_pred_adaboost, 'predictions_adaboost.csv')"
   ]
  },
  {
   "cell_type": "markdown",
   "metadata": {},
   "source": [
    "### Neural Network ###"
   ]
  },
  {
   "cell_type": "code",
   "execution_count": 21,
   "metadata": {
    "collapsed": false
   },
   "outputs": [
    {
     "name": "stdout",
     "output_type": "stream",
     "text": [
      "Best accuracy: 0.825647 using {'neurons': 30, 'batch_size': 20, 'nb_epoch': 50}\n",
      "Cross Validation Fold Accuracies: [ 0.8258427   0.80898877  0.80337079  0.78651686  0.89265537]\n",
      "Cross Validation Accuracy: 0.82 (+/- 0.07 @2std)\n",
      "Train Accuracy: 0.843644544432\n",
      "Confusion matrix, without normalization\n",
      "[[498  51]\n",
      " [ 88 252]]\n",
      "Wall time: 3min 3s\n"
     ]
    },
    {
     "data": {
      "image/png": "[encoded data removed]",
      "text/plain": [
       "<matplotlib.figure.Figure at 0xf0a4400>"
      ]
     },
     "metadata": {},
     "output_type": "display_data"
    }
   ],
   "source": [
    "%%time\n",
    "\n",
    "# fix random seed for reproducibility\n",
    "seed = 7\n",
    "np.random.seed(seed)\n",
    "\n",
    "# baseline model\n",
    "def create_baseline(neurons=10):\n",
    "    # create model\n",
    "    model = Sequential()\n",
    "    model.add(Dense(neurons, input_dim=16, init='normal', activation='relu'))\n",
    "    model.add(Dense(1, init='normal', activation='sigmoid'))\n",
    "    # Compile model\n",
    "    model.compile(loss='binary_crossentropy', optimizer='adam', metrics=['accuracy'])\n",
    "    return model\n",
    "\n",
    "mlp_optimised = get_optimised_model(\n",
    "    KerasClassifier(build_fn=create_baseline, batch_size=5, verbose=0), {\n",
    "        'neurons': [10, 20, 30],\n",
    "        'batch_size': [20], #10, 20, 40, 60, 80, 100],\n",
    "        'nb_epoch': [50]}, #10, 50, 100]}, \n",
    "    X_train.as_matrix(), Y_train.as_matrix())\n",
    "#mlp_optimised = KNeighborsClassifier(n_neighbors = 3)\n",
    "\n",
    "fit_model(mlp_optimised, X_train.as_matrix(), Y_train.as_matrix())\n",
    "Y_predMLP = get_test_predictions(mlp_optimised, X_test.as_matrix())\n",
    "\n",
    "create_submission_file(test_df, Y_predMLP.reshape(-1), 'predictions_mlp.csv')"
   ]
  },
  {
   "cell_type": "markdown",
   "metadata": {},
   "source": [
    "## Create Majority Vote Ensemble ##"
   ]
  },
  {
   "cell_type": "code",
   "execution_count": 24,
   "metadata": {
    "collapsed": false
   },
   "outputs": [],
   "source": [
    "# Creates a submission from a majority voting ensemble, given keys, and a list of\n",
    "# predictions and votes.\n",
    "def majority_vote_ensemble(keys, predictions_votes, name='ensemble_majority_vote.csv'):\n",
    "    \n",
    "    results = []\n",
    "    for predictions, votes in predictions_votes:\n",
    "        predictions[predictions == 0] = -1\n",
    "        results.append((predictions, votes))\n",
    "    \n",
    "    # Create the ensemble\n",
    "    ensemble = keys.to_frame().assign(Survived = 0)\n",
    "    for probs, votes in results:\n",
    "        for i in range(0, votes):\n",
    "            ensemble = ensemble.assign(Survived = lambda x: x.Survived + probs)\n",
    "    combined_result = ensemble.assign(Survived = lambda x: np.where(x.Survived > 0, 1, 0))\n",
    "    combined_result.to_csv(name, index = False)\n",
    "    return None\n",
    "       \n",
    "predictions_votes = [\n",
    "    (Y_predLogisticRegression, 1),\n",
    "    (Y_predSVC, 1),\n",
    "    (Y_predRF, 1),\n",
    "    (Y_predKNN, 1),\n",
    "    (Y_pred_adaboost,1),\n",
    "    (Y_predMLP.reshape(-1),1)\n",
    "]\n",
    "\n",
    "majority_vote_ensemble(test_df['PassengerId'], predictions_votes)"
   ]
  },
  {
   "cell_type": "code",
   "execution_count": 25,
   "metadata": {
    "collapsed": false
   },
   "outputs": [],
   "source": [
    "# Creates a submission from a weighted average of probabilities ensemble, \n",
    "# given training/testing data and a list of models and weights\n",
    "def weighted_average_ensemble(keys, predictions_weights, name='ensemble_weighted_average.csv'):\n",
    "    weights_sum = sum([w[1] for w in predictions_weights])    \n",
    "    results = []\n",
    "    for predictions, weight in predictions_weights:\n",
    "        predictions[predictions == 0] = -1\n",
    "        results.append((predictions, weight))\n",
    "    \n",
    "    # Create the ensemble\n",
    "    ensemble = keys.to_frame().assign(Survived = 0)\n",
    "    for probs, weights in results:\n",
    "        ensemble = ensemble.assign(Survived = lambda x: x.Survived + probs * weight)\n",
    "    combined_result = ensemble.assign(Survived = lambda x: x.Survived / weights_sum)\n",
    "    combined_result = combined_result.assign(Survived = lambda x: np.where(x.Survived >= 0.5, 1, 0))\n",
    "    combined_result.to_csv(name, index = False)\n",
    "    return None\n",
    "       \n",
    "predictions_weights = [\n",
    "    (Y_predLogisticRegression, 1),\n",
    "    (Y_predSVC, 1),\n",
    "    (Y_predRF, 1),\n",
    "    (Y_predKNN, 1),\n",
    "    (Y_pred_adaboost,1),\n",
    "    (Y_predMLP.reshape(-1),1)\n",
    "]\n",
    "\n",
    "weighted_average_ensemble(test_df['PassengerId'], predictions_weights)"
   ]
  },
  {
   "cell_type": "code",
   "execution_count": 26,
   "metadata": {
    "collapsed": false
   },
   "outputs": [],
   "source": [
    "# Weighted average, give the random forest more say\n",
    "predictions_weights = [\n",
    "    (Y_predLogisticRegression, 1),\n",
    "    (Y_predSVC, 1),\n",
    "    (Y_predRF, 2),\n",
    "    (Y_predKNN, 1),\n",
    "    (Y_pred_adaboost,1),\n",
    "    (Y_predMLP.reshape(-1),1)\n",
    "]\n",
    "\n",
    "weighted_average_ensemble(test_df['PassengerId'], predictions_weights, 'ensemble_weighted_average_rf.csv')"
   ]
  },
  {
   "cell_type": "code",
   "execution_count": null,
   "metadata": {
    "collapsed": true
   },
   "outputs": [],
   "source": []
  }
 ],
 "metadata": {
  "kernelspec": {
   "display_name": "Python 3",
   "language": "python",
   "name": "python3"
  },
  "language_info": {
   "codemirror_mode": {
    "name": "ipython",
    "version": 3
   },
   "file_extension": ".py",
   "mimetype": "text/x-python",
   "name": "python",
   "nbconvert_exporter": "python",
   "pygments_lexer": "ipython3",
   "version": "3.4.5"
  }
 },
 "nbformat": 4,
 "nbformat_minor": 0
}
