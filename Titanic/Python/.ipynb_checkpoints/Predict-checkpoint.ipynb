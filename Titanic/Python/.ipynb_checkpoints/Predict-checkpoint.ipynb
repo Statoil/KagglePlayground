{
 "cells": [
  {
   "cell_type": "code",
   "execution_count": 50,
   "metadata": {
    "collapsed": true
   },
   "outputs": [],
   "source": [
    "# Imports\n",
    "\n",
    "# pandas\n",
    "import pandas as pd\n",
    "from pandas import Series,DataFrame\n",
    "from pandas.tools.plotting import scatter_matrix\n",
    "\n",
    "# numpy, matplotlib, seaborn\n",
    "import numpy as np\n",
    "import matplotlib.pyplot as plt\n",
    "import seaborn as sns\n",
    "sns.set_style('whitegrid')\n",
    "%matplotlib inline\n",
    "\n",
    "# machine learning\n",
    "from sklearn.metrics import confusion_matrix\n",
    "from sklearn import cross_validation\n",
    "from sklearn.cross_validation import StratifiedKFold\n",
    "from sklearn.linear_model import LogisticRegression\n",
    "from sklearn.svm import SVC, LinearSVC\n",
    "from sklearn.ensemble import RandomForestClassifier\n",
    "from sklearn.neighbors import KNeighborsClassifier\n",
    "from sklearn.naive_bayes import GaussianNB"
   ]
  },
  {
   "cell_type": "code",
   "execution_count": 51,
   "metadata": {
    "collapsed": false
   },
   "outputs": [],
   "source": [
    "# get train & test csv files as a DataFrame and then for simplicity of creating features put into a combined\n",
    "# dataframe with an IsTrainData field indicating which is train / test data\n",
    "titanic_df = pd.read_csv(\"../Data/train.csv\", dtype={\"Age\": np.float64}, ).assign(IsTrainData = 1)\n",
    "test_df    = pd.read_csv(\"../Data/test.csv\", dtype={\"Age\": np.float64}, ).assign(IsTrainData = 0).assign(Survived = -999)\n",
    "combined_df=pd.concat([titanic_df, test_df])"
   ]
  },
  {
   "cell_type": "markdown",
   "metadata": {},
   "source": [
    "## Basic Cleaning ##\n",
    "\n",
    "Remove the 2 entries from the training set with missing Embarked values as the % of entries it impacts is so low."
   ]
  },
  {
   "cell_type": "code",
   "execution_count": 52,
   "metadata": {
    "collapsed": false
   },
   "outputs": [],
   "source": [
    "combined_df = combined_df.dropna(subset=['Embarked'])\n",
    "# titanic_df.info() # verify"
   ]
  },
  {
   "cell_type": "markdown",
   "metadata": {},
   "source": [
    "### Sex ###"
   ]
  },
  {
   "cell_type": "code",
   "execution_count": 53,
   "metadata": {
    "collapsed": false,
    "scrolled": true
   },
   "outputs": [
    {
     "name": "stdout",
     "output_type": "stream",
     "text": [
      "<class 'pandas.core.frame.DataFrame'>\n",
      "Int64Index: 1307 entries, 0 to 417\n",
      "Data columns (total 15 columns):\n",
      "Age            1307 non-null int32\n",
      "Cabin          293 non-null object\n",
      "Fare           1307 non-null float64\n",
      "IsTrainData    1307 non-null int64\n",
      "Name           1307 non-null object\n",
      "Parch          1307 non-null int64\n",
      "PassengerId    1307 non-null int64\n",
      "Pclass         1307 non-null int64\n",
      "Sex            1307 non-null int32\n",
      "SibSp          1307 non-null int64\n",
      "Survived       1307 non-null int64\n",
      "Ticket         1307 non-null object\n",
      "Embarked_C     1307 non-null float64\n",
      "Embarked_Q     1307 non-null float64\n",
      "Embarked_S     1307 non-null float64\n",
      "dtypes: float64(4), int32(2), int64(6), object(3)\n",
      "memory usage: 153.2+ KB\n"
     ]
    }
   ],
   "source": [
    "# Convert string values to numerical one \n",
    "combined_df['Sex'] = combined_df['Sex'].map({'male':1,'female':0}).astype(int)\n",
    "\n",
    "# Age\n",
    "\n",
    "# Replace empty age values with the mean - should verify mean / median. Perhaps take by analysing\n",
    "# name to determin title e.g. Mrs. is probably older than Miss.\n",
    "combined_df['Age'].fillna(combined_df['Age'].median(), inplace=True)\n",
    "\n",
    "# convert from float to int\n",
    "combined_df['Age'] = combined_df['Age'].astype(int)\n",
    "\n",
    "# TODO: Visualise and Analyse\n",
    "# Name\n",
    "# Age\n",
    "#grouped = combined_df.groupby(['Sex','Pclass','Title'])\n",
    "#print(grouped.median())\n",
    "\n",
    "# SibSp\n",
    "# Parch\n",
    "# Ticket\n",
    "# Fare\n",
    "\n",
    "# replace missing fare value with the mean.\n",
    "combined_df.Fare.fillna(combined_df.Fare.mean(),inplace=True)\n",
    "    \n",
    "# Cabin\n"
   ]
  },
  {
   "cell_type": "markdown",
   "metadata": {},
   "source": [
    "### Embarked ###\n",
    "One hot encode values"
   ]
  },
  {
   "cell_type": "code",
   "execution_count": null,
   "metadata": {
    "collapsed": true
   },
   "outputs": [],
   "source": [
    "# Embarked\n",
    "ports = pd.get_dummies(combined_df['Embarked'], prefix='Embarked')\n",
    "combined_df = pd.concat([combined_df, ports], axis = 1)\n",
    "combined_df = combined_df.drop([\"Embarked\"],axis=1)\n",
    "combined_df.info()"
   ]
  },
  {
   "cell_type": "markdown",
   "metadata": {},
   "source": [
    "## Create New Features ##"
   ]
  },
  {
   "cell_type": "code",
   "execution_count": 55,
   "metadata": {
    "collapsed": false
   },
   "outputs": [],
   "source": [
    "def extract_title(x):\n",
    "    # Get the person's title from their name combining less common or similar ones\n",
    "    title = x.split(',')[1].split('.')[0][1:]\n",
    "    if title in ['Mlle', 'Ms']:\n",
    "        title = 'Miss'\n",
    "    elif title == 'Mme':\n",
    "        title = 'Mrs'\n",
    "    elif title in ['Rev', 'Dr', 'Major', 'Col', 'Capt', 'Jonkheer', 'Dona']:\n",
    "        title = 'Esteemed'\n",
    "    elif title in ['Don', 'Lady', 'Sir', 'the Countess']:\n",
    "        title = 'Royalty'\n",
    "    return title\n",
    "\n",
    "# Get the title, one hot encode and then remove both name and title.\n",
    "combined_df = combined_df.assign(Title = lambda x: x.Name.map(extract_title))\n",
    "titles = pd.get_dummies(combined_df['Title'], prefix='Title')\n",
    "combined_df = pd.concat([combined_df, titles], axis = 1)\n",
    "combined_df.drop([\"Name\", \"Title\"],axis=1,inplace=True)\n"
   ]
  },
  {
   "cell_type": "markdown",
   "metadata": {},
   "source": [
    "## Final correction of data ##\n",
    "\n",
    "We need to remove some values such as string entries. Most of this code should be done smarter elsewhere!"
   ]
  },
  {
   "cell_type": "code",
   "execution_count": 56,
   "metadata": {
    "collapsed": false
   },
   "outputs": [],
   "source": [
    "# drop string values - these should be convirted\n",
    "combined_df.drop([\"Cabin\", \"Ticket\"],axis=1,inplace=True)\n",
    "combined_df = combined_df.dropna()"
   ]
  },
  {
   "cell_type": "markdown",
   "metadata": {},
   "source": [
    "## Create Final Train and Test Datasets ##"
   ]
  },
  {
   "cell_type": "code",
   "execution_count": 61,
   "metadata": {
    "collapsed": false
   },
   "outputs": [],
   "source": [
    "# define training and testing sets\n",
    "X_train = combined_df[combined_df['IsTrainData']==1].drop([\"PassengerId\", \"Survived\", \"IsTrainData\"],axis=1)\n",
    "Y_train = combined_df[combined_df['IsTrainData']==1][\"Survived\"]\n",
    "X_test  = combined_df[combined_df['IsTrainData']==0].drop([\"PassengerId\", \"Survived\", \"IsTrainData\"],axis=1)\n",
    "\n",
    "# Verify totals\n",
    "print(\"Survived: \" + str(len(Y_Train[Y_Train['Survived'] == 1])))\n",
    "print(\"Died: \" + str(len(Y_Train[Y_Train['Survived'] == 0])))\n",
    "print(\"Total: \" + str(len(Y_Train)))"
   ]
  },
  {
   "cell_type": "markdown",
   "metadata": {},
   "source": [
    "## Build Models and Test ##\n",
    "First some helper methods"
   ]
  },
  {
   "cell_type": "code",
   "execution_count": 62,
   "metadata": {
    "collapsed": false,
    "scrolled": true
   },
   "outputs": [],
   "source": [
    "# Run and evaluate model\n",
    "def evaluate_model(model, X_train, Y_train, X_test):\n",
    "    # fit the model against the training data\n",
    "    model.fit(X_train, Y_train)\n",
    "\n",
    "    # get scores based upon 5 fold cross validation\n",
    "    scores = cross_validation.cross_val_score(model, X_train, Y_train, cv=5)\n",
    "    print(\"Fold Accuracies: \" + str(scores))\n",
    "    print(\"Accuracy: %0.2f (+/- %0.2f @2std)\" % (scores.mean(), scores.std() * 2))\n",
    "\n",
    "    # Compute confusion matrix\n",
    "    prediction = cross_validation.cross_val_predict(model, X_train, Y_train)\n",
    "    cm = confusion_matrix(Y_train, prediction)\n",
    "    print('Confusion matrix, without normalization')\n",
    "    print(cm)\n",
    "    plot_confusion_matrix(cm, np.array([\"Died\", \"Survived\"]))\n",
    "\n",
    "    # predics test classes\n",
    "    Y_pred = model.predict(X_test)\n",
    "    return Y_pred\n",
    "\n",
    "# Plot confusion matrix\n",
    "def plot_confusion_matrix(cm, tickLabels, title='Confusion matrix', cmap=plt.cm.Blues):\n",
    "    plt.imshow(cm, interpolation='nearest', cmap=cmap)\n",
    "    plt.title(title)\n",
    "    plt.colorbar()\n",
    "    tick_marks = np.arange(len(tickLabels))\n",
    "    plt.xticks(tick_marks, tickLabels, rotation=45)\n",
    "    plt.yticks(tick_marks, tickLabels)\n",
    "    plt.tight_layout()\n",
    "    plt.ylabel('True label')\n",
    "    plt.xlabel('Predicted label')"
   ]
  },
  {
   "cell_type": "markdown",
   "metadata": {},
   "source": [
    "## Baseline (ZeroR) classification ##\n",
    "\n",
    "At this stage out training set has **889** entries of which the most common output class is that they died with **549** entries.\n",
    "\n",
    "We could achieve an accuracy of **61.75%** by just predicting 'died' for all cases so this should be our absolute baseline! "
   ]
  },
  {
   "cell_type": "markdown",
   "metadata": {},
   "source": [
    "## Gender Based Model ##\n",
    "Given the percentage of woman who survided was a lot higher than men, what happens if we just predict that all women lived and all men died"
   ]
  },
  {
   "cell_type": "code",
   "execution_count": 63,
   "metadata": {
    "collapsed": false
   },
   "outputs": [
    {
     "name": "stdout",
     "output_type": "stream",
     "text": [
      "Number of females: 0\n",
      "Number of males: 0\n",
      "Proportion of women who survived is nan\n",
      "Proportion of men who survived is nan\n"
     ]
    }
   ],
   "source": [
    "women = titanic_df[titanic_df['Sex']==0]\n",
    "print('Number of females:', len(women))\n",
    "men = titanic_df[titanic_df['Sex']==1]\n",
    "print('Number of males:', len(men))\n",
    "\n",
    "proportion_women_survived = np.sum(women['Survived'].tolist()) / np.size(women['Survived'].tolist()) \n",
    "proportion_men_survived = np.sum(men['Survived'].tolist()) / np.size(men['Survived'].tolist()) \n",
    "\n",
    "print('Proportion of women who survived is %s' % proportion_women_survived)\n",
    "print('Proportion of men who survived is %s' % proportion_men_survived)\n",
    "\n",
    "def predict(row):\n",
    "    if row['Sex'] == 0:\n",
    "        return 1\n",
    "    else:\n",
    "        return 0\n",
    "\n",
    "gender_test_df = test_df\n",
    "gender_test_df['Survived'] = gender_test_df.apply(predict, axis=1)\n",
    "\n",
    "gender_submission = gender_test_df[['PassengerId', 'Survived']]\n",
    "gender_submission.to_csv('gender_predictions.csv', index=False)"
   ]
  },
  {
   "cell_type": "markdown",
   "metadata": {},
   "source": [
    "## Machine Learning Models ##"
   ]
  },
  {
   "cell_type": "code",
   "execution_count": 64,
   "metadata": {
    "collapsed": false
   },
   "outputs": [
    {
     "name": "stdout",
     "output_type": "stream",
     "text": [
      "Fold Accuracies: [ 0.83146067  0.81460674  0.80337079  0.79213483  0.8700565 ]\n",
      "Accuracy: 0.82 (+/- 0.05 @2std)\n",
      "Confusion matrix, without normalization\n",
      "[[482  67]\n",
      " [ 95 245]]\n"
     ]
    },
    {
     "data": {
      "text/html": [
       "<div>\n",
       "<table border=\"1\" class=\"dataframe\">\n",
       "  <thead>\n",
       "    <tr style=\"text-align: right;\">\n",
       "      <th></th>\n",
       "      <th>Features</th>\n",
       "      <th>Coefficient Estimate</th>\n",
       "    </tr>\n",
       "  </thead>\n",
       "  <tbody>\n",
       "    <tr>\n",
       "      <th>0</th>\n",
       "      <td>Survived</td>\n",
       "      <td>-0.019307</td>\n",
       "    </tr>\n",
       "    <tr>\n",
       "      <th>1</th>\n",
       "      <td>Pclass</td>\n",
       "      <td>0.004924</td>\n",
       "    </tr>\n",
       "    <tr>\n",
       "      <th>2</th>\n",
       "      <td>Name</td>\n",
       "      <td>-0.307023</td>\n",
       "    </tr>\n",
       "    <tr>\n",
       "      <th>3</th>\n",
       "      <td>Sex</td>\n",
       "      <td>-0.866198</td>\n",
       "    </tr>\n",
       "    <tr>\n",
       "      <th>4</th>\n",
       "      <td>Age</td>\n",
       "      <td>-0.844825</td>\n",
       "    </tr>\n",
       "    <tr>\n",
       "      <th>5</th>\n",
       "      <td>SibSp</td>\n",
       "      <td>-0.483120</td>\n",
       "    </tr>\n",
       "    <tr>\n",
       "      <th>6</th>\n",
       "      <td>Parch</td>\n",
       "      <td>0.934196</td>\n",
       "    </tr>\n",
       "    <tr>\n",
       "      <th>7</th>\n",
       "      <td>Ticket</td>\n",
       "      <td>0.745627</td>\n",
       "    </tr>\n",
       "    <tr>\n",
       "      <th>8</th>\n",
       "      <td>Fare</td>\n",
       "      <td>0.558789</td>\n",
       "    </tr>\n",
       "    <tr>\n",
       "      <th>9</th>\n",
       "      <td>Cabin</td>\n",
       "      <td>-0.839211</td>\n",
       "    </tr>\n",
       "    <tr>\n",
       "      <th>10</th>\n",
       "      <td>Embarked</td>\n",
       "      <td>1.897269</td>\n",
       "    </tr>\n",
       "    <tr>\n",
       "      <th>11</th>\n",
       "      <td>IsTrainData</td>\n",
       "      <td>0.845769</td>\n",
       "    </tr>\n",
       "  </tbody>\n",
       "</table>\n",
       "</div>"
      ],
      "text/plain": [
       "       Features  Coefficient Estimate\n",
       "0      Survived             -0.019307\n",
       "1        Pclass              0.004924\n",
       "2          Name             -0.307023\n",
       "3           Sex             -0.866198\n",
       "4           Age             -0.844825\n",
       "5         SibSp             -0.483120\n",
       "6         Parch              0.934196\n",
       "7        Ticket              0.745627\n",
       "8          Fare              0.558789\n",
       "9         Cabin             -0.839211\n",
       "10     Embarked              1.897269\n",
       "11  IsTrainData              0.845769"
      ]
     },
     "execution_count": 64,
     "metadata": {},
     "output_type": "execute_result"
    },
    {
     "data": {
      "image/png": "[encoded data removed]",
      "text/plain": [
       "<matplotlib.figure.Figure at 0x3497dd8>"
      ]
     },
     "metadata": {},
     "output_type": "display_data"
    }
   ],
   "source": [
    "# Logistic Regression\n",
    "\n",
    "logreg = LogisticRegression()\n",
    "Y_predLogisticRegression = evaluate_model(logreg, X_train, Y_train, X_test)\n",
    "\n",
    "# get Correlation Coefficient for each feature using Logistic Regression\n",
    "coeff_df = DataFrame(titanic_df.columns.delete(0))\n",
    "coeff_df.columns = ['Features']\n",
    "coeff_df[\"Coefficient Estimate\"] = pd.Series(logreg.coef_[0])\n",
    "\n",
    "# preview\n",
    "coeff_df"
   ]
  },
  {
   "cell_type": "code",
   "execution_count": 65,
   "metadata": {
    "collapsed": false
   },
   "outputs": [
    {
     "name": "stdout",
     "output_type": "stream",
     "text": [
      "Fold Accuracies: [ 0.65730337  0.71910112  0.73595506  0.75280899  0.76836158]\n",
      "Accuracy: 0.73 (+/- 0.08 @2std)\n",
      "Confusion matrix, without normalization\n",
      "[[441 108]\n",
      " [149 191]]\n"
     ]
    },
    {
     "data": {
      "image/png": "[encoded data removed]",
      "text/plain": [
       "<matplotlib.figure.Figure at 0xae01a20>"
      ]
     },
     "metadata": {},
     "output_type": "display_data"
    }
   ],
   "source": [
    "# Support Vector Machines\n",
    "\n",
    "svc = SVC()\n",
    "Y_predSVC = evaluate_model(svc, X_train, Y_train, X_test)"
   ]
  },
  {
   "cell_type": "code",
   "execution_count": 66,
   "metadata": {
    "collapsed": false
   },
   "outputs": [
    {
     "name": "stdout",
     "output_type": "stream",
     "text": [
      "Fold Accuracies: [ 0.81460674  0.81460674  0.83146067  0.78651685  0.85875706]\n",
      "Accuracy: 0.82 (+/- 0.05 @2std)\n",
      "Confusion matrix, without normalization\n",
      "[[484  65]\n",
      " [ 97 243]]\n"
     ]
    },
    {
     "data": {
      "image/png": "[encoded data removed]",
      "text/plain": [
       "<matplotlib.figure.Figure at 0xbe84320>"
      ]
     },
     "metadata": {},
     "output_type": "display_data"
    }
   ],
   "source": [
    "# Random Forests\n",
    "\n",
    "#random_forest = RandomForestClassifier(n_estimators=100)\n",
    "random_forest = RandomForestClassifier(criterion='entropy', n_estimators=50, max_depth=8, min_samples_split=8, max_features=5)\n",
    "Y_predRandomForest = evaluate_model(random_forest, X_train, Y_train, X_test)\n",
    "\n",
    "#Best: 0.814398 using {'bootstrap': True, 'max_depth': 10, 'min_samples_split': 4, 'criterion': 'gini', 'n_estimators': 50, 'max_features': 2}\n",
    "#Best: 0.843645 using {'criterion': 'entropy', 'n_estimators': 50, 'max_depth': 8, 'min_samples_split': 8, 'max_features': 5}\n"
   ]
  },
  {
   "cell_type": "code",
   "execution_count": 67,
   "metadata": {
    "collapsed": false
   },
   "outputs": [
    {
     "name": "stdout",
     "output_type": "stream",
     "text": [
      "Fold Accuracies: [ 0.67977528  0.69662921  0.7247191   0.75280899  0.70621469]\n",
      "Accuracy: 0.71 (+/- 0.05 @2std)\n",
      "Confusion matrix, without normalization\n",
      "[[431 118]\n",
      " [156 184]]\n"
     ]
    },
    {
     "data": {
      "image/png": "[encoded data removed]",
      "text/plain": [
       "<matplotlib.figure.Figure at 0xbeccc50>"
      ]
     },
     "metadata": {},
     "output_type": "display_data"
    }
   ],
   "source": [
    "# K Nearest Neighbors\n",
    "\n",
    "knn = KNeighborsClassifier(n_neighbors = 3)\n",
    "Y_predKNeighbors = evaluate_model(knn, X_train, Y_train, X_test)"
   ]
  },
  {
   "cell_type": "code",
   "execution_count": 68,
   "metadata": {
    "collapsed": false
   },
   "outputs": [
    {
     "name": "stdout",
     "output_type": "stream",
     "text": [
      "Fold Accuracies: [ 0.76966292  0.81460674  0.79775281  0.76404494  0.85310734]\n",
      "Accuracy: 0.80 (+/- 0.06 @2std)\n",
      "Confusion matrix, without normalization\n",
      "[[468  81]\n",
      " [104 236]]\n"
     ]
    },
    {
     "data": {
      "image/png": "[encoded data removed]",
      "text/plain": [
       "<matplotlib.figure.Figure at 0xbe84a58>"
      ]
     },
     "metadata": {},
     "output_type": "display_data"
    }
   ],
   "source": [
    "# Gaussian Naive Bayes\n",
    "\n",
    "gaussian = GaussianNB()\n",
    "Y_predGaussian = evaluate_model(gaussian, X_train, Y_train, X_test)"
   ]
  },
  {
   "cell_type": "markdown",
   "metadata": {},
   "source": [
    "## Hyper Parameter Tuning ##\n",
    "Tuning of Random Forest model."
   ]
  },
  {
   "cell_type": "code",
   "execution_count": null,
   "metadata": {
    "collapsed": false
   },
   "outputs": [],
   "source": [
    "from sklearn.grid_search import GridSearchCV\n",
    "param_grid = { \"n_estimators\"      : [150, 200, 250],\n",
    "           \"criterion\"         : [\"gini\", \"entropy\"],\n",
    "           \"max_features\"      : [2, 5, 8],\n",
    "           \"max_depth\"         : [5, 8, 10, 20],\n",
    "           \"min_samples_split\" : [2, 4, 8, 16]}\n",
    "\n",
    "grid_search = GridSearchCV(random_forest, param_grid, n_jobs=1, cv=StratifiedKFold(Y_train, n_folds=5))\n",
    "grid_search.fit(X_train, Y_train)\n",
    "\n",
    "# summarise results\n",
    "print(\"Best: %f using %s\" % (grid_search.best_score_, grid_search.best_params_))\n",
    "for params, mean_score, scores in grid_search.grid_scores_:\n",
    "    print(\"%f (%f) with: %r\" % (scores.mean(), scores.std(), params))\n",
    "    \n",
    "#Best: 0.843645 using {'criterion': 'entropy', 'n_estimators': 50, 'max_depth': 8, 'min_samples_split': 8, 'max_features': 5}\n"
   ]
  },
  {
   "cell_type": "markdown",
   "metadata": {},
   "source": [
    "## Create Submission File ##"
   ]
  },
  {
   "cell_type": "code",
   "execution_count": null,
   "metadata": {
    "collapsed": true
   },
   "outputs": [],
   "source": [
    "submission = pd.DataFrame({\n",
    "        \"PassengerId\": test_df[\"PassengerId\"],\n",
    "        \"Survived\": Y_predRandomForest\n",
    "    })\n",
    "submission.to_csv('predictions.csv', index=False)"
   ]
  },
  {
   "cell_type": "code",
   "execution_count": null,
   "metadata": {
    "collapsed": true
   },
   "outputs": [],
   "source": []
  }
 ],
 "metadata": {
  "kernelspec": {
   "display_name": "Python 3",
   "language": "python",
   "name": "python3"
  },
  "language_info": {
   "codemirror_mode": {
    "name": "ipython",
    "version": 3
   },
   "file_extension": ".py",
   "mimetype": "text/x-python",
   "name": "python",
   "nbconvert_exporter": "python",
   "pygments_lexer": "ipython3",
   "version": "3.4.5"
  }
 },
 "nbformat": 4,
 "nbformat_minor": 0
}
